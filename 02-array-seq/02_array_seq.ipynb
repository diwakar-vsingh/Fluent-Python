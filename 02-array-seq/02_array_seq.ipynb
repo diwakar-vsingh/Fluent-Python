{
  "nbformat": 4,
  "nbformat_minor": 0,
  "metadata": {
    "colab": {
      "name": "02-array-seq.ipynb",
      "provenance": [],
      "collapsed_sections": [],
      "toc_visible": true,
      "authorship_tag": "ABX9TyP0VfLqI/4wq7TmKGv9cC0q",
      "include_colab_link": true
    },
    "kernelspec": {
      "name": "python3",
      "display_name": "Python 3"
    }
  },
  "cells": [
    {
      "cell_type": "markdown",
      "metadata": {
        "id": "view-in-github",
        "colab_type": "text"
      },
      "source": [
        "<a href=\"https://colab.research.google.com/github/diwakar-vsingh/Fluent-Python/blob/version-0.0/02-array-seq/02_array_seq.ipynb\" target=\"_parent\"><img src=\"https://colab.research.google.com/assets/colab-badge.svg\" alt=\"Open In Colab\"/></a>"
      ]
    },
    {
      "cell_type": "markdown",
      "metadata": {
        "id": "_yTIDBKg48RF"
      },
      "source": [
        "# Built-In Sequences\n",
        "\n",
        "The standard library offers a rich selection of sequence types implemented in C:\n",
        "\n",
        "***Container Sequences***:\n",
        "list, tuple, and collections.deque can hold items of different types.\n",
        "\n",
        "***Flat Sequences***:\n",
        "str, bytes, bytearray, memoryview, and array.array hold items of one type.\n",
        "\n",
        "*Container sequences* hold references to the objects they contain, which may be of any type, while *flat sequences* physically store the value of each item within its own memory space, and not as distinct objects. Thus, flat sequences are more compact, but they are limited to holding primitive values like characters, bytes, and numbers.\n",
        "\n",
        "Another way of grouping sequence types is by mutability:\n",
        "\n",
        "***Mutable sequences***:\n",
        "list, bytearray, array.array, collections.deque, and memoryview \n",
        "\n",
        "***Immutable sequences***:\n",
        "tuple, str, and bytes\n",
        "\n",
        "<img src=\"https://github.com/diwakar-vsingh/Fluent-Python/blob/version-0.0/02-array-seq/images/table1.png?raw=true\" width=\"700px\"/>"
      ]
    },
    {
      "cell_type": "markdown",
      "metadata": {
        "id": "nmqbo3yf80VA"
      },
      "source": [
        "## List Comprehensions and Generator Expressions\n",
        "\n",
        "A quick way to build a sequence is using a list comprehension (if the target is a list) or a generator expression (for all other kinds of sequences)."
      ]
    },
    {
      "cell_type": "code",
      "metadata": {
        "colab": {
          "base_uri": "https://localhost:8080/"
        },
        "id": "bG8HFFBb29wH",
        "outputId": "d13e2664-9be3-4209-dbb7-f009f251b08e"
      },
      "source": [
        "symbols = '$¢£¥€¤'\n",
        "codes = [ord(symbol) for symbol in symbols]\n",
        "codes"
      ],
      "execution_count": 1,
      "outputs": [
        {
          "output_type": "execute_result",
          "data": {
            "text/plain": [
              "[36, 162, 163, 165, 8364, 164]"
            ]
          },
          "metadata": {
            "tags": []
          },
          "execution_count": 1
        }
      ]
    },
    {
      "cell_type": "markdown",
      "metadata": {
        "id": "BzcewNma-DKu"
      },
      "source": [
        "### Listcomps Versus map and filter\n",
        "\n",
        "ist comprehensions build lists from sequences or any other iterable type by filtering and transforming items. The `filter` and `map` built-ins can be composed to do the same, but readability suffers, as we will see next."
      ]
    },
    {
      "cell_type": "code",
      "metadata": {
        "colab": {
          "base_uri": "https://localhost:8080/"
        },
        "id": "LXqIwK7e-N9o",
        "outputId": "3ba4bd2f-fa28-4872-b725-cccf2c1158e6"
      },
      "source": [
        "symbols = '$¢£¥€¤'\n",
        "beyond_ascii = [ord(s) for s in symbols if ord(s) > 127]\n",
        "print(beyond_ascii)\n",
        "beyond_ascii = list(filter(lambda c: c > 127, map(ord, symbols))) \n",
        "print(beyond_ascii)"
      ],
      "execution_count": 2,
      "outputs": [
        {
          "output_type": "stream",
          "text": [
            "[162, 163, 165, 8364, 164]\n",
            "[162, 163, 165, 8364, 164]\n"
          ],
          "name": "stdout"
        }
      ]
    },
    {
      "cell_type": "markdown",
      "metadata": {
        "id": "D01s7ERL-8qX"
      },
      "source": [
        "#### Speed test comparing listcomp with `filter/map`."
      ]
    },
    {
      "cell_type": "code",
      "metadata": {
        "colab": {
          "base_uri": "https://localhost:8080/"
        },
        "id": "Fdz3dVrK-oSs",
        "outputId": "4df2ab8f-26f2-4cd6-d621-d9a154754b1c"
      },
      "source": [
        "import timeit\n",
        "\n",
        "TIMES = 10000\n",
        "\n",
        "SETUP = \"\"\"\n",
        "symbols = '$¢£¥€¤'\n",
        "def non_ascii(c):\n",
        "    return c > 127\n",
        "\"\"\"\n",
        "\n",
        "def clock(label, cmd):\n",
        "    res = timeit.repeat(cmd, setup=SETUP, number=TIMES)\n",
        "    print(label, *('{:.3f}'.format(x) for x in res))\n",
        "\n",
        "clock('listcomp        :', '[ord(s) for s in symbols if ord(s) > 127]')\n",
        "clock('listcomp + func :', '[ord(s) for s in symbols if non_ascii(ord(s))]')\n",
        "clock('filter + lambda :', 'list(filter(lambda c: c > 127, map(ord, symbols)))')\n",
        "clock('filter + func   :', 'list(filter(non_ascii, map(ord, symbols)))')"
      ],
      "execution_count": 3,
      "outputs": [
        {
          "output_type": "stream",
          "text": [
            "listcomp        : 0.019 0.010 0.008\n",
            "listcomp + func : 0.013 0.013 0.012\n",
            "filter + lambda : 0.012 0.012 0.012\n",
            "filter + func   : 0.012 0.012 0.012\n"
          ],
          "name": "stdout"
        }
      ]
    },
    {
      "cell_type": "markdown",
      "metadata": {
        "id": "-qOh7lJ-_8Nn"
      },
      "source": [
        "### Cartesian Products\n",
        "\n",
        "Listcomps can generate lists from the Cartesian product of two or more iterables. The items that make up the cartesian product are tuples made from items from every input iterable. The resulting list has a length equal to the lengths of the input iterables mul‐ tiplied."
      ]
    },
    {
      "cell_type": "markdown",
      "metadata": {
        "id": "97yNVkPcAWYL"
      },
      "source": [
        "For example, imagine you need to produce a list of T-shirts available in two colors and three sizes. The following code block shows how to produce that list using a listcomp. The result has six items."
      ]
    },
    {
      "cell_type": "code",
      "metadata": {
        "colab": {
          "base_uri": "https://localhost:8080/"
        },
        "id": "1m8GeVyO_qsr",
        "outputId": "e98b70f7-3d85-4f00-8742-62b65c16cce2"
      },
      "source": [
        "colors = ['black', 'white']\n",
        "sizes = ['S', 'M', 'L']\n",
        "tshirts = [(color, size) for color in colors for size in sizes]\n",
        "tshirts"
      ],
      "execution_count": 4,
      "outputs": [
        {
          "output_type": "execute_result",
          "data": {
            "text/plain": [
              "[('black', 'S'),\n",
              " ('black', 'M'),\n",
              " ('black', 'L'),\n",
              " ('white', 'S'),\n",
              " ('white', 'M'),\n",
              " ('white', 'L')]"
            ]
          },
          "metadata": {
            "tags": []
          },
          "execution_count": 4
        }
      ]
    },
    {
      "cell_type": "code",
      "metadata": {
        "colab": {
          "base_uri": "https://localhost:8080/"
        },
        "id": "SW-rzCD3ApGO",
        "outputId": "2503bba8-40d8-455a-b47e-7177e8589c24"
      },
      "source": [
        "# code snippet to be executed only once  \n",
        "mysetup = \"\"\"\n",
        "colors = ['black', 'white']\n",
        "sizes = ['S', 'M', 'L']\n",
        "\"\"\"\n",
        "\n",
        "# code snippets whose execution time is to be measured\n",
        "code1 = \"\"\"\n",
        "temp = [(color, size) for color in colors for size in sizes]\n",
        "\"\"\" \n",
        "\n",
        "code2 = \"\"\"\n",
        "temp = [] \n",
        "for color in colors: \n",
        "  for size in sizes: \n",
        "    temp.append((color, size))\n",
        "\"\"\" \n",
        "\n",
        "def clock(label, code):\n",
        "    res = timeit.repeat(setup=mysetup, stmt=code, number=TIMES)\n",
        "    print(label, *('{:.3f}'.format(x) for x in res))\n",
        "\n",
        "clock('listcomp         :', code1)\n",
        "clock('without listcomp :', code2)"
      ],
      "execution_count": 5,
      "outputs": [
        {
          "output_type": "stream",
          "text": [
            "listcomp         : 0.007 0.005 0.005\n",
            "without listcomp : 0.006 0.008 0.006\n"
          ],
          "name": "stdout"
        }
      ]
    },
    {
      "cell_type": "markdown",
      "metadata": {
        "id": "ezEIfJ26Oo1x"
      },
      "source": [
        "### Generator Expression\n",
        "\n",
        "To initialize tuples, arrays, and other types of sequences, you could also start from a listcomp, but a genexp saves memory because it yields items one by one using the iterator protocol instead of building a whole list just to feed another constructor.\n",
        "\n",
        "Genexps use the same syntax as listcomps, but are enclosed in parentheses rather than brackets."
      ]
    },
    {
      "cell_type": "markdown",
      "metadata": {
        "id": "AMXpjvN0PCGF"
      },
      "source": [
        "####  Initializing a tuple and an array from a generator expression"
      ]
    },
    {
      "cell_type": "code",
      "metadata": {
        "colab": {
          "base_uri": "https://localhost:8080/"
        },
        "id": "tlQtXgsOO-gg",
        "outputId": "b001e14f-6e64-498f-afd8-919578ccaa87"
      },
      "source": [
        "symbols = '$¢£¥€¤'\n",
        "tuple(ord(symbol) for symbol in symbols)"
      ],
      "execution_count": 6,
      "outputs": [
        {
          "output_type": "execute_result",
          "data": {
            "text/plain": [
              "(36, 162, 163, 165, 8364, 164)"
            ]
          },
          "metadata": {
            "tags": []
          },
          "execution_count": 6
        }
      ]
    },
    {
      "cell_type": "code",
      "metadata": {
        "colab": {
          "base_uri": "https://localhost:8080/"
        },
        "id": "n-CdOH4vPX0a",
        "outputId": "656356d2-491c-4d42-cd28-49f92f8d1118"
      },
      "source": [
        "import array\n",
        "array.array(\"I\", (ord(symbol) for symbol in symbols))"
      ],
      "execution_count": 7,
      "outputs": [
        {
          "output_type": "execute_result",
          "data": {
            "text/plain": [
              "array('I', [36, 162, 163, 165, 8364, 164])"
            ]
          },
          "metadata": {
            "tags": []
          },
          "execution_count": 7
        }
      ]
    },
    {
      "cell_type": "markdown",
      "metadata": {
        "id": "HFLT8DfJQDFM"
      },
      "source": [
        "#### Genexp with cartesian product\n",
        "\n",
        "The generator expression feeds the for loop producing one item at a time. "
      ]
    },
    {
      "cell_type": "code",
      "metadata": {
        "colab": {
          "base_uri": "https://localhost:8080/"
        },
        "id": "vsHUSphzQMrK",
        "outputId": "f5742395-aabd-48ec-a695-cf4841a77308"
      },
      "source": [
        "colors = ['black', 'white']\n",
        "sizes = ['S', 'M', 'L']\n",
        "for tshirt in ('%s %s' % (c, s) for c in colors for s in sizes):\n",
        "  print(tshirt)"
      ],
      "execution_count": 8,
      "outputs": [
        {
          "output_type": "stream",
          "text": [
            "black S\n",
            "black M\n",
            "black L\n",
            "white S\n",
            "white M\n",
            "white L\n"
          ],
          "name": "stdout"
        }
      ]
    },
    {
      "cell_type": "markdown",
      "metadata": {
        "id": "UmL5TTnKQivG"
      },
      "source": [
        "## Tuples are not just Immutable Lists\n",
        "\n",
        "Tuples do double duty: they can be used as immutable lists and also as records with no field names."
      ]
    },
    {
      "cell_type": "markdown",
      "metadata": {
        "id": "pjO6ei92R2VA"
      },
      "source": [
        "### Tuples as Records\n",
        "\n",
        "Tuples hold records: each item in the tuple holds the data for one field and the position of the item gives its meaning.\n",
        "\n",
        "The following example shows tuples being used as records. Note that in every expression, sorting the tuple would destroy the information because the meaning of each data item is given by its position in the tuple"
      ]
    },
    {
      "cell_type": "code",
      "metadata": {
        "colab": {
          "base_uri": "https://localhost:8080/"
        },
        "id": "vo0ig6P6SAUh",
        "outputId": "633cd74e-45ca-40a4-c8c9-994d75459b73"
      },
      "source": [
        "# Latitude and longitude of the Los Angeles International Airport.\n",
        "lax_coordinates = (33.9425, -118.408056)\n",
        "\n",
        "# Data about Tokyo: name, year, population (millions), population change (%), area (km2).\n",
        "city, year, pop, chg, area = ('Tokyo', 2003, 32450, 0.66, 8014)\n",
        "\n",
        "# A list of tuples of the form (country_code, passport_number).\n",
        "traveler_ids = [('USA', '31195855'), ('BRA', 'CE342567'), ('ESP', 'XDA205856')]\n",
        "\n",
        "for passport in sorted(traveler_ids):\n",
        "  print('%s/%s' % passport)"
      ],
      "execution_count": 9,
      "outputs": [
        {
          "output_type": "stream",
          "text": [
            "BRA/CE342567\n",
            "ESP/XDA205856\n",
            "USA/31195855\n"
          ],
          "name": "stdout"
        }
      ]
    },
    {
      "cell_type": "markdown",
      "metadata": {
        "id": "cq9yurN6TCle"
      },
      "source": [
        "### Tuple Unpacking\n",
        "\n",
        "The most visible form of tuple unpacking is parallel assignment; that is, assigning items from an iterable to a tuple of variables."
      ]
    },
    {
      "cell_type": "code",
      "metadata": {
        "colab": {
          "base_uri": "https://localhost:8080/"
        },
        "id": "M64AWPcbTQCx",
        "outputId": "2f7ef6c6-686c-4894-a1da-9f2e2c8ad47d"
      },
      "source": [
        "lax_coordinates = (33.9425, -118.408056)\n",
        "latitude, longitude = lax_coordinates # tuple unpacking\n",
        "print(latitude, longitude)"
      ],
      "execution_count": 10,
      "outputs": [
        {
          "output_type": "stream",
          "text": [
            "33.9425 -118.408056\n"
          ],
          "name": "stdout"
        }
      ]
    },
    {
      "cell_type": "markdown",
      "metadata": {
        "id": "kaHCm8PyTe-T"
      },
      "source": [
        "An elegant application of tuple unpacking is swapping the values of variables without using a temporary variable:\n",
        "\n",
        "`b, a = a, b`"
      ]
    },
    {
      "cell_type": "markdown",
      "metadata": {
        "id": "vIRl9WV_Tu-r"
      },
      "source": [
        "Another example of tuple unpacking is prefixing an argument with a star when calling\n",
        "a function:"
      ]
    },
    {
      "cell_type": "code",
      "metadata": {
        "colab": {
          "base_uri": "https://localhost:8080/"
        },
        "id": "nJ3JYa4NTlcg",
        "outputId": "48b3d9c1-7c31-4e73-c16e-e708f208357f"
      },
      "source": [
        "divmod(20, 8)"
      ],
      "execution_count": 11,
      "outputs": [
        {
          "output_type": "execute_result",
          "data": {
            "text/plain": [
              "(2, 4)"
            ]
          },
          "metadata": {
            "tags": []
          },
          "execution_count": 11
        }
      ]
    },
    {
      "cell_type": "code",
      "metadata": {
        "colab": {
          "base_uri": "https://localhost:8080/"
        },
        "id": "hY33yABfTz4C",
        "outputId": "59cbf474-ee1a-45c0-df9b-b64f08328702"
      },
      "source": [
        "t = (20, 8)\n",
        "quotient, remainder = divmod(*t)\n",
        "quotient, remainder"
      ],
      "execution_count": 12,
      "outputs": [
        {
          "output_type": "execute_result",
          "data": {
            "text/plain": [
              "(2, 4)"
            ]
          },
          "metadata": {
            "tags": []
          },
          "execution_count": 12
        }
      ]
    },
    {
      "cell_type": "markdown",
      "metadata": {
        "id": "bHVANTNBUMgm"
      },
      "source": [
        "Sometimes when we only care about certain parts of a tuple when unpacking, a dummy variable like _ is used as placeholder"
      ]
    },
    {
      "cell_type": "code",
      "metadata": {
        "colab": {
          "base_uri": "https://localhost:8080/",
          "height": 35
        },
        "id": "JzUevaufUM7W",
        "outputId": "99647bd1-ca96-496f-966c-03b792e2fbcc"
      },
      "source": [
        "import os\n",
        "\n",
        "# os.path.split() function builds a tuple (path, last_part) from a filesystem path\n",
        "_, filename = os.path.split('/home/luciano/.ssh/idrsa.pub')\n",
        "filename"
      ],
      "execution_count": 13,
      "outputs": [
        {
          "output_type": "execute_result",
          "data": {
            "application/vnd.google.colaboratory.intrinsic+json": {
              "type": "string"
            },
            "text/plain": [
              "'idrsa.pub'"
            ]
          },
          "metadata": {
            "tags": []
          },
          "execution_count": 13
        }
      ]
    },
    {
      "cell_type": "markdown",
      "metadata": {
        "id": "wgziyhb5Ugv6"
      },
      "source": [
        "#### Using * to grab exceess items\n"
      ]
    },
    {
      "cell_type": "code",
      "metadata": {
        "colab": {
          "base_uri": "https://localhost:8080/"
        },
        "id": "Ix5AvrluUuq7",
        "outputId": "e31d600e-4c4f-4928-da78-d8fb3fb0e1f2"
      },
      "source": [
        "a, b, *rest = range(5)\n",
        "a, b, rest"
      ],
      "execution_count": 14,
      "outputs": [
        {
          "output_type": "execute_result",
          "data": {
            "text/plain": [
              "(0, 1, [2, 3, 4])"
            ]
          },
          "metadata": {
            "tags": []
          },
          "execution_count": 14
        }
      ]
    },
    {
      "cell_type": "code",
      "metadata": {
        "colab": {
          "base_uri": "https://localhost:8080/"
        },
        "id": "noOuvGmcUxwQ",
        "outputId": "6f49bbd2-facc-467b-d3cb-47d11403566f"
      },
      "source": [
        "a, b, *rest = range(2)\n",
        "a, b, rest"
      ],
      "execution_count": 15,
      "outputs": [
        {
          "output_type": "execute_result",
          "data": {
            "text/plain": [
              "(0, 1, [])"
            ]
          },
          "metadata": {
            "tags": []
          },
          "execution_count": 15
        }
      ]
    },
    {
      "cell_type": "markdown",
      "metadata": {
        "id": "QIrW-5NFVBpf"
      },
      "source": [
        "In the context of parallel assignment, the * prefix can be applied to exactly one variable, but it can appear in any position:"
      ]
    },
    {
      "cell_type": "code",
      "metadata": {
        "colab": {
          "base_uri": "https://localhost:8080/"
        },
        "id": "yyVxG9ttVB3j",
        "outputId": "dcfb8269-9245-4bc5-98f7-5d0656f08fb8"
      },
      "source": [
        "a, *body, c, d = range(5)\n",
        "a, body, c, d"
      ],
      "execution_count": 16,
      "outputs": [
        {
          "output_type": "execute_result",
          "data": {
            "text/plain": [
              "(0, [1, 2], 3, 4)"
            ]
          },
          "metadata": {
            "tags": []
          },
          "execution_count": 16
        }
      ]
    },
    {
      "cell_type": "markdown",
      "metadata": {
        "id": "Z7FKJuSaVMYq"
      },
      "source": [
        "### Nested Tuple Unpacking\n",
        "\n",
        "The tuple to receive an expression to unpack can have nested tuples, like (a, b, (c, d)), and Python will do the right thing if the expression matches the nesting structure. \n"
      ]
    },
    {
      "cell_type": "code",
      "metadata": {
        "colab": {
          "base_uri": "https://localhost:8080/"
        },
        "id": "mXQDT41MVYDc",
        "outputId": "287b781c-bd05-4b56-8247-1b72d8160f3e"
      },
      "source": [
        "metro_areas = [('Tokyo', 'JP', 36.933, (35.689722,139.691667)), \n",
        "               ('Delhi NCR', 'IN', 21.935, (28.613889, 77.208889)), \n",
        "               ('Mexico City', 'MX', 20.142, (19.433333, -99.133333)),\n",
        "               ('New York-Newark', 'US', 20.104, (40.808611, -74.020386)),\n",
        "               ('Sao Paulo', 'BR', 19.649, (-23.547778, -46.635833))]\n",
        "print('{:15} | {:^9} | {:^9}'.format('', 'lat.', 'long.')) \n",
        "fmt = '{:15} | {:9.4f} | {:9.4f}'\n",
        "\n",
        "for name, cc, pop, (latitude, longitude) in metro_areas: \n",
        "  if longitude <= 0: \n",
        "    print(fmt.format(name, latitude, longitude))"
      ],
      "execution_count": 17,
      "outputs": [
        {
          "output_type": "stream",
          "text": [
            "                |   lat.    |   long.  \n",
            "Mexico City     |   19.4333 |  -99.1333\n",
            "New York-Newark |   40.8086 |  -74.0204\n",
            "Sao Paulo       |  -23.5478 |  -46.6358\n"
          ],
          "name": "stdout"
        }
      ]
    },
    {
      "cell_type": "markdown",
      "metadata": {
        "id": "xT4hvx_UWYmv"
      },
      "source": [
        "### Named Tuple\n",
        "\n",
        "The collections.namedtuple function is a factory that produces subclasses of tuple enhanced with field names and a class name—which helps debugging."
      ]
    },
    {
      "cell_type": "code",
      "metadata": {
        "colab": {
          "base_uri": "https://localhost:8080/"
        },
        "id": "PVU-a54IWd8t",
        "outputId": "057ff849-d798-41d7-b9b3-24a42f2286ea"
      },
      "source": [
        "import collections\n",
        "\n",
        "City = collections.namedtuple(\"City\", [\"name\", \"country\", \"population\", \"coordinates\"])\n",
        "tokyo = City('Tokyo', 'JP', 36.933, (35.689722, 139.691667))\n",
        "tokyo"
      ],
      "execution_count": 18,
      "outputs": [
        {
          "output_type": "execute_result",
          "data": {
            "text/plain": [
              "City(name='Tokyo', country='JP', population=36.933, coordinates=(35.689722, 139.691667))"
            ]
          },
          "metadata": {
            "tags": []
          },
          "execution_count": 18
        }
      ]
    },
    {
      "cell_type": "code",
      "metadata": {
        "colab": {
          "base_uri": "https://localhost:8080/"
        },
        "id": "rioZaUi2XgHg",
        "outputId": "41afc4e6-1cd0-4f59-be17-ab55f2853c07"
      },
      "source": [
        "print(tokyo.population)\n",
        "print(tokyo.coordinates)\n",
        "print(tokyo[1])"
      ],
      "execution_count": 19,
      "outputs": [
        {
          "output_type": "stream",
          "text": [
            "36.933\n",
            "(35.689722, 139.691667)\n",
            "JP\n"
          ],
          "name": "stdout"
        }
      ]
    },
    {
      "cell_type": "markdown",
      "metadata": {
        "id": "ruSEJ9PiX6jF"
      },
      "source": [
        "A named tuple type has a few attributes in addition to those inherited from tuple. The `_fields` class attribute, the class method `_make(iterable)`, and the `_asdict()` instance method.\n",
        "\n",
        "1. `_make()` allow you to instantiate a named tuple from an iterable: `City(*delhi_data)` would do the same.\n",
        "2. `_asdict()` returns a collections.OrderedDict built from the named tuple\n",
        "instance."
      ]
    },
    {
      "cell_type": "code",
      "metadata": {
        "colab": {
          "base_uri": "https://localhost:8080/"
        },
        "id": "RsdFtuHvX_gl",
        "outputId": "438c18e7-2f20-46f7-8908-ad8855f41283"
      },
      "source": [
        "# Class attribute\n",
        "City._fields"
      ],
      "execution_count": 20,
      "outputs": [
        {
          "output_type": "execute_result",
          "data": {
            "text/plain": [
              "('name', 'country', 'population', 'coordinates')"
            ]
          },
          "metadata": {
            "tags": []
          },
          "execution_count": 20
        }
      ]
    },
    {
      "cell_type": "code",
      "metadata": {
        "colab": {
          "base_uri": "https://localhost:8080/"
        },
        "id": "dx-x_DMrYJS9",
        "outputId": "9ed4ad8e-a85a-46a5-bf5d-05c0fe85cfed"
      },
      "source": [
        "LatLong = collections.namedtuple('LatLong', [\"lat\", \"long\"])\n",
        "delhi_data = (\"Delhi NCR\", \"IN\", 21.935, LatLong(28.613889, 77.208889))\n",
        "delhi = City._make(delhi_data) # Class Method\n",
        "print(delhi)\n",
        "print(City(*delhi_data))\n",
        "print(delhi._asdict())"
      ],
      "execution_count": 21,
      "outputs": [
        {
          "output_type": "stream",
          "text": [
            "City(name='Delhi NCR', country='IN', population=21.935, coordinates=LatLong(lat=28.613889, long=77.208889))\n",
            "City(name='Delhi NCR', country='IN', population=21.935, coordinates=LatLong(lat=28.613889, long=77.208889))\n",
            "OrderedDict([('name', 'Delhi NCR'), ('country', 'IN'), ('population', 21.935), ('coordinates', LatLong(lat=28.613889, long=77.208889))])\n"
          ],
          "name": "stdout"
        }
      ]
    },
    {
      "cell_type": "code",
      "metadata": {
        "colab": {
          "base_uri": "https://localhost:8080/"
        },
        "id": "37dsmSUzY7eM",
        "outputId": "806deef6-cac9-4e92-fcbb-c616f5f13326"
      },
      "source": [
        "for (key, value) in delhi._asdict().items():\n",
        "  print(key + \":\", value)"
      ],
      "execution_count": 22,
      "outputs": [
        {
          "output_type": "stream",
          "text": [
            "name: Delhi NCR\n",
            "country: IN\n",
            "population: 21.935\n",
            "coordinates: LatLong(lat=28.613889, long=77.208889)\n"
          ],
          "name": "stdout"
        }
      ]
    },
    {
      "cell_type": "markdown",
      "metadata": {
        "id": "U-ToEHkmacZt"
      },
      "source": [
        "### Tuples as Immutable Lists\n",
        "\n",
        "When using a tuple as an immutable variation of list, it helps to know how similar they actually are. As you can see in Table 2-1, tuple supports all list methods that do not involve adding or removing items, with one exception—tuple lacks the __re versed__ method. However, that is just for optimization; reversed(my_tuple) works without it.\n",
        "\n",
        "\n",
        "<center><img src=\"https://github.com/diwakar-vsingh/Fluent-Python/blob/version-0.0/02-array-seq/images/table2.png?raw=true\" width=\"600px\"/></center>\n",
        "<center><img src=\"https://github.com/diwakar-vsingh/Fluent-Python/blob/version-0.0/02-array-seq/images/table3.png?raw=true\" width=\"600px\"/></center>"
      ]
    },
    {
      "cell_type": "markdown",
      "metadata": {
        "id": "chx9mYgTfLDM"
      },
      "source": [
        "## Slicing\n",
        "\n",
        "A common feature of list, tuple, str, and all sequence types in Python is the support of slicing operations, which are more powerful than most people realize"
      ]
    },
    {
      "cell_type": "markdown",
      "metadata": {
        "id": "x4LfkArJhFAG"
      },
      "source": [
        "### Why Slices and Range Exclude the Last Item\n",
        "\n",
        "The Pythonic convention of excluding the last item in slices and ranges works well with the zero-based indexing used in Python, C, and many other languages."
      ]
    },
    {
      "cell_type": "code",
      "metadata": {
        "colab": {
          "base_uri": "https://localhost:8080/"
        },
        "id": "xJ6e-WL6afC4",
        "outputId": "18273d48-50be-40b0-b460-c290c6ac1c8a"
      },
      "source": [
        "l = [10, 20, 30, 40, 50, 60]\n",
        "l[:2], l[2:]"
      ],
      "execution_count": 23,
      "outputs": [
        {
          "output_type": "execute_result",
          "data": {
            "text/plain": [
              "([10, 20], [30, 40, 50, 60])"
            ]
          },
          "metadata": {
            "tags": []
          },
          "execution_count": 23
        }
      ]
    },
    {
      "cell_type": "markdown",
      "metadata": {
        "id": "fKhZOTAEhdHi"
      },
      "source": [
        "### Slice Object\n",
        "\n",
        "This is no secret, but worth repeating just in case: `s[a:b:c]` can be used to specify a stride or step c, causing the resulting slice to skip items. The stride can also be negative, returning items in reverse. "
      ]
    },
    {
      "cell_type": "code",
      "metadata": {
        "colab": {
          "base_uri": "https://localhost:8080/"
        },
        "id": "LGPydZhnhiHg",
        "outputId": "6af5edc5-af96-4412-f902-6ca8bb171465"
      },
      "source": [
        "s = 'bicycle'\n",
        "print(s[::3])\n",
        "print(s[::-1])"
      ],
      "execution_count": 24,
      "outputs": [
        {
          "output_type": "stream",
          "text": [
            "bye\n",
            "elcycib\n"
          ],
          "name": "stdout"
        }
      ]
    },
    {
      "cell_type": "markdown",
      "metadata": {
        "id": "f5bzn3N7qJBf"
      },
      "source": [
        "The notation a:b:c is only valid within `[]` when used as the indexing or subscript operator, and it produces a slice object: `slice(a, b, c)`.\n",
        "\n",
        "Knowing about slice objects is useful because it lets you assign names to slices"
      ]
    },
    {
      "cell_type": "code",
      "metadata": {
        "id": "yXNniZShqJvB"
      },
      "source": [
        "invoice = \"\"\"\n",
        "0.....6.................................40........52...55.......\n",
        "1909 Pimoroni PiBrella                      $17.50\n",
        "1489 6mm Tactile Switch x20                  $4.95\n",
        "1510 Panavise Jr. - PV-201                  $28.00\n",
        "1601 PiTFT Mini Kit 320x240                 $34.50\n",
        "\"\"\""
      ],
      "execution_count": 25,
      "outputs": []
    },
    {
      "cell_type": "code",
      "metadata": {
        "colab": {
          "base_uri": "https://localhost:8080/"
        },
        "id": "dHSglGANqc3P",
        "outputId": "79f3c6f3-a77c-4128-b416-9b8a6a4dbc50"
      },
      "source": [
        "SKU = slice(0, 6)\n",
        "DESCRIPTION = slice(5, 40)\n",
        "UNIT_PRICE = slice(40, 52)\n",
        "QUANTITY = slice(52, 55)\n",
        "ITEM_TOTAL = slice(55, None)\n",
        "line_items = invoice.split('\\n')[2:] \n",
        "\n",
        "for item in line_items:\n",
        "  print(item[UNIT_PRICE], item[DESCRIPTION])"
      ],
      "execution_count": 26,
      "outputs": [
        {
          "output_type": "stream",
          "text": [
            "    $17.50 Pimoroni PiBrella                  \n",
            "     $4.95 6mm Tactile Switch x20             \n",
            "    $28.00 Panavise Jr. - PV-201              \n",
            "    $34.50 PiTFT Mini Kit 320x240             \n",
            " \n"
          ],
          "name": "stdout"
        }
      ]
    },
    {
      "cell_type": "markdown",
      "metadata": {
        "id": "Ubyg-5FiqcqR"
      },
      "source": [
        "### Assigning to Slices\n",
        "\n",
        "Mutable sequences can be grafted, excised, and otherwise modified in place using slice notation on the left side of an assignment statement or as the target of a `del` statement."
      ]
    },
    {
      "cell_type": "code",
      "metadata": {
        "colab": {
          "base_uri": "https://localhost:8080/"
        },
        "id": "y9MWCNsQvEWC",
        "outputId": "be4fb12c-da49-4b0d-b09c-0bbdda442d22"
      },
      "source": [
        "l = list(range(10))\n",
        "print(l)\n",
        "l[2:5] = [20, 30]\n",
        "print(l)\n",
        "del l[5:7]\n",
        "print(l)\n",
        "l[3::2] = [11, 22]\n",
        "print(l)\n",
        "l[2:5] = [100]\n",
        "print(l)"
      ],
      "execution_count": 27,
      "outputs": [
        {
          "output_type": "stream",
          "text": [
            "[0, 1, 2, 3, 4, 5, 6, 7, 8, 9]\n",
            "[0, 1, 20, 30, 5, 6, 7, 8, 9]\n",
            "[0, 1, 20, 30, 5, 8, 9]\n",
            "[0, 1, 20, 11, 5, 22, 9]\n",
            "[0, 1, 100, 22, 9]\n"
          ],
          "name": "stdout"
        }
      ]
    },
    {
      "cell_type": "markdown",
      "metadata": {
        "id": "OPYcIG9Fv0dp"
      },
      "source": [
        "### Using + and * Sequences\n",
        "\n",
        "Usually both operands of + must be of the same sequence type, and neither of them is modified but a new sequence of the same type is created as result of the concatenation. Both + and * always create a new object, and never change their operands."
      ]
    },
    {
      "cell_type": "markdown",
      "metadata": {
        "id": "1dhDYIHKwax9"
      },
      "source": [
        "To concatenate multiple copies of the same sequence, multiply it by an integer. Again, a new sequence is created:"
      ]
    },
    {
      "cell_type": "code",
      "metadata": {
        "colab": {
          "base_uri": "https://localhost:8080/"
        },
        "id": "O8zjDgFHvHSF",
        "outputId": "284a89a0-f5c2-4ed2-8214-b048be84420a"
      },
      "source": [
        "l = [1, 2, 3]\n",
        "l * 5"
      ],
      "execution_count": 28,
      "outputs": [
        {
          "output_type": "execute_result",
          "data": {
            "text/plain": [
              "[1, 2, 3, 1, 2, 3, 1, 2, 3, 1, 2, 3, 1, 2, 3]"
            ]
          },
          "metadata": {
            "tags": []
          },
          "execution_count": 28
        }
      ]
    },
    {
      "cell_type": "code",
      "metadata": {
        "colab": {
          "base_uri": "https://localhost:8080/",
          "height": 35
        },
        "id": "zX0GptKPweb0",
        "outputId": "184dc904-2435-4050-8a89-f61f5c0df456"
      },
      "source": [
        "5 * \"abcd\""
      ],
      "execution_count": 29,
      "outputs": [
        {
          "output_type": "execute_result",
          "data": {
            "application/vnd.google.colaboratory.intrinsic+json": {
              "type": "string"
            },
            "text/plain": [
              "'abcdabcdabcdabcdabcd'"
            ]
          },
          "metadata": {
            "tags": []
          },
          "execution_count": 29
        }
      ]
    },
    {
      "cell_type": "markdown",
      "metadata": {
        "id": "Uk4WOcHSw6P_"
      },
      "source": [
        "### Building lists of lists\n",
        "\n",
        "Sometimes we need to initialize a list with a certain number of nested lists—for example, to distribute students in a list of teams or to represent squares on a game board. "
      ]
    },
    {
      "cell_type": "code",
      "metadata": {
        "colab": {
          "base_uri": "https://localhost:8080/"
        },
        "id": "s_XfYgNpwy6q",
        "outputId": "7c308b57-0a12-4cc5-c002-e4edb777e2d4"
      },
      "source": [
        "# A list with three lists of length 3 can represent a tic-tac-toe board\n",
        "board = [['_'] * 3 for i in range(3)] \n",
        "print(board)\n",
        "board[1][2] = \"X\"\n",
        "print(board)"
      ],
      "execution_count": 30,
      "outputs": [
        {
          "output_type": "stream",
          "text": [
            "[['_', '_', '_'], ['_', '_', '_'], ['_', '_', '_']]\n",
            "[['_', '_', '_'], ['_', '_', 'X'], ['_', '_', '_']]\n"
          ],
          "name": "stdout"
        }
      ]
    },
    {
      "cell_type": "code",
      "metadata": {
        "colab": {
          "base_uri": "https://localhost:8080/"
        },
        "id": "TwX-DY1lxJD6",
        "outputId": "a8a54064-d157-476b-ab16-82600b1a25b9"
      },
      "source": [
        "# A list with three references to the same list is useless\n",
        "weird_board = [['_'] * 3] * 3\n",
        "print(weird_board)\n",
        "weird_board[1][2] = 'O'\n",
        "print(weird_board)"
      ],
      "execution_count": 31,
      "outputs": [
        {
          "output_type": "stream",
          "text": [
            "[['_', '_', '_'], ['_', '_', '_'], ['_', '_', '_']]\n",
            "[['_', '_', 'O'], ['_', '_', 'O'], ['_', '_', 'O']]\n"
          ],
          "name": "stdout"
        }
      ]
    },
    {
      "cell_type": "markdown",
      "metadata": {
        "id": "iuXX3cc9yODN"
      },
      "source": [
        "## Augmented Assignment with Sequences\n",
        "\n",
        "The augmented assignment operators += and *= behave very differently depending on the first operand.\n",
        "\n",
        "\n",
        "The special method that makes += work is `__iadd__` (for “in-place addition”). However, if `__iadd__` is not implemented, Python falls back to calling `__add__`.\n",
        "\n",
        "If a implements `__iadd__`, that will be called. In the case of mutable sequences (e.g., list, bytearray, array.array), a will be changed in place (i.e., the effect will be similar to a.extend(b)). However, when a does not implement `__iadd__`, the expression a += b has the same effect as a = a + b: the expression a + b is evaluated first, producing a new object, which is then bound to a. In other words, the identity of the object bound to a may or may not change, depending on the availability of `__iadd__`."
      ]
    },
    {
      "cell_type": "code",
      "metadata": {
        "colab": {
          "base_uri": "https://localhost:8080/"
        },
        "id": "2u79fQddzCOD",
        "outputId": "c852602f-9451-4edd-c756-9a5aa763c1ff"
      },
      "source": [
        "l = [1, 2, 3]\n",
        "print(id(l))\n",
        "l *= 2\n",
        "print(id(l))"
      ],
      "execution_count": 32,
      "outputs": [
        {
          "output_type": "stream",
          "text": [
            "139998951121032\n",
            "139998951121032\n"
          ],
          "name": "stdout"
        }
      ]
    },
    {
      "cell_type": "code",
      "metadata": {
        "colab": {
          "base_uri": "https://localhost:8080/"
        },
        "id": "vNQB3hwezJin",
        "outputId": "78740b49-e1d5-4c40-ac5e-bb1cf26f2cd8"
      },
      "source": [
        "t = (1, 2, 3)\n",
        "print(id(t))\n",
        "t *= 2\n",
        "print(id(t))"
      ],
      "execution_count": 33,
      "outputs": [
        {
          "output_type": "stream",
          "text": [
            "139998951061040\n",
            "139998975585544\n"
          ],
          "name": "stdout"
        }
      ]
    },
    {
      "cell_type": "markdown",
      "metadata": {
        "id": "kvk44GD-zWLa"
      },
      "source": [
        "Repeated concatenation of immutable sequences is inefficient, because instead of just appending new items, the interpreter has to copy the whole target sequence to create a new one with the new items concatenated."
      ]
    },
    {
      "cell_type": "markdown",
      "metadata": {
        "id": "3fUdrY7Jtw_A"
      },
      "source": [
        "## list.sort and the sorted Built-In Function\n",
        "\n",
        "The `list.sort` method sorts a list in place—that is, without making a copy. It returns `None` to remind us that it changes the target object, and does not create a new list. This is an important Python API convention: functions or methods that change an object in place should return `None` to make it clear to the caller that the object itself was changed, and no new object was created. The same behavior can be seen, for example, in the `random.shuffle` \n",
        "function.\n",
        "\n",
        "In contrast, the built-in function `sorted` creates a new list and returns it. In fact, it accepts any iterable object as an argument, including immutable sequences and generators. Regardless of the type of iterable given to `sorted`, it always returns a newly created list.\n",
        "\n",
        "Both `list.sort` and `sorted` take two optional, keyword-only arguments:\n",
        "\n",
        "`reverse`: If True, the items are returned in descending order (i.e., by reversing the comparison of the items). The default is False."
      ]
    },
    {
      "cell_type": "code",
      "metadata": {
        "colab": {
          "base_uri": "https://localhost:8080/"
        },
        "id": "PrE4_YHjvDJ8",
        "outputId": "5696b13e-7e19-4504-ae52-f3330ac064c8"
      },
      "source": [
        "fruits = ['grape', 'raspberry', 'apple', 'banana']\n",
        "print(\"This produces a new list of strings sorted alphabetically.\")\n",
        "print(sorted(fruits))\n",
        "print(\"\\n\")\n",
        "print(\"Inspecting the original list\")\n",
        "print(fruits)\n",
        "print(\"\\n\")\n",
        "print(\"This is simply reverse alphabetical ordering.\")\n",
        "print(sorted(fruits, reverse=True))\n",
        "print(\"\\n\")\n",
        "print(\"A new list of strings, now sorted by length.\")\n",
        "print(sorted(fruits, key=len))\n",
        "print(\"\\n\")\n",
        "print(\"These are the strings sorted in descending order of length.\")\n",
        "print(sorted(fruits, key=len, reverse=True))\n",
        "print(\"\\n\")\n",
        "print(\"the ordering of the original fruits list has not changed\")\n",
        "print(fruits)\n",
        "print(\"\\n\")\n",
        "print(\"This sorts the list in place, and returns None \")\n",
        "print(fruits.sort())\n",
        "print(\"\\n\")\n",
        "print(\"Now fruits is sorted.\")\n",
        "print(fruits)"
      ],
      "execution_count": 34,
      "outputs": [
        {
          "output_type": "stream",
          "text": [
            "This produces a new list of strings sorted alphabetically.\n",
            "['apple', 'banana', 'grape', 'raspberry']\n",
            "\n",
            "\n",
            "Inspecting the original list\n",
            "['grape', 'raspberry', 'apple', 'banana']\n",
            "\n",
            "\n",
            "This is simply reverse alphabetical ordering.\n",
            "['raspberry', 'grape', 'banana', 'apple']\n",
            "\n",
            "\n",
            "A new list of strings, now sorted by length.\n",
            "['grape', 'apple', 'banana', 'raspberry']\n",
            "\n",
            "\n",
            "These are the strings sorted in descending order of length.\n",
            "['raspberry', 'banana', 'grape', 'apple']\n",
            "\n",
            "\n",
            "the ordering of the original fruits list has not changed\n",
            "['grape', 'raspberry', 'apple', 'banana']\n",
            "\n",
            "\n",
            "This sorts the list in place, and returns None \n",
            "None\n",
            "\n",
            "\n",
            "Now fruits is sorted.\n",
            "['apple', 'banana', 'grape', 'raspberry']\n"
          ],
          "name": "stdout"
        }
      ]
    },
    {
      "cell_type": "code",
      "metadata": {
        "colab": {
          "base_uri": "https://localhost:8080/"
        },
        "id": "g7paw55TgKdk",
        "outputId": "c613a551-35b0-4532-b1b9-b2a661f8ef85"
      },
      "source": [
        "sorted({1: 'D', 2: 'B', 3: 'B', 4: 'E', 5: 'A'})"
      ],
      "execution_count": 45,
      "outputs": [
        {
          "output_type": "execute_result",
          "data": {
            "text/plain": [
              "[1, 2, 3, 4, 5]"
            ]
          },
          "metadata": {
            "tags": []
          },
          "execution_count": 45
        }
      ]
    },
    {
      "cell_type": "markdown",
      "metadata": {
        "id": "Y0vyoN46gxEa"
      },
      "source": [
        "### Key Functions\n",
        "\n",
        "Both `list.sort()` and `sorted()` have a key parameter to specify a function (or other callable) to be called on each list element prior to making comparisons."
      ]
    },
    {
      "cell_type": "code",
      "metadata": {
        "colab": {
          "base_uri": "https://localhost:8080/"
        },
        "id": "J1f2iPPfgKWo",
        "outputId": "e8c09fd7-c3ab-4281-b3f2-6c3ca70a2a4c"
      },
      "source": [
        "sorted(\"This is a test string from Andrew\".split(), key=str.lower)"
      ],
      "execution_count": 46,
      "outputs": [
        {
          "output_type": "execute_result",
          "data": {
            "text/plain": [
              "['a', 'Andrew', 'from', 'is', 'string', 'test', 'This']"
            ]
          },
          "metadata": {
            "tags": []
          },
          "execution_count": 46
        }
      ]
    },
    {
      "cell_type": "markdown",
      "metadata": {
        "id": "ggT8tZUihI92"
      },
      "source": [
        "The value of the key parameter should be a function (or other callable) that takes a single argument and returns a key to use for sorting purposes. This technique is fast because the key function is called exactly once for each input record.\n",
        "\n",
        "A common pattern is to sort complex objects using some of the object’s indices as keys."
      ]
    },
    {
      "cell_type": "code",
      "metadata": {
        "colab": {
          "base_uri": "https://localhost:8080/"
        },
        "id": "vZypCGiLg7zZ",
        "outputId": "22f433d7-3bcc-4238-bd12-7a9426a3f1b8"
      },
      "source": [
        "student_tuples = [('john', 'A', 15), \n",
        "                  ('jane', 'B', 12),\n",
        "                  ('dave', 'B', 10)]\n",
        "print(student_tuples)\n",
        "print(sorted(student_tuples, key = lambda student: student[2]))"
      ],
      "execution_count": 80,
      "outputs": [
        {
          "output_type": "stream",
          "text": [
            "[('john', 'A', 15), ('jane', 'B', 12), ('dave', 'B', 10)]\n",
            "[('dave', 'B', 10), ('jane', 'B', 12), ('john', 'A', 15)]\n"
          ],
          "name": "stdout"
        }
      ]
    },
    {
      "cell_type": "markdown",
      "metadata": {
        "id": "V2gixVUWiQDS"
      },
      "source": [
        "The same technique works for objects with named attributes. "
      ]
    },
    {
      "cell_type": "code",
      "metadata": {
        "id": "TvqWkj3ziQUH"
      },
      "source": [
        "class Student:\n",
        "  def __init__(self, name, grade, age):\n",
        "    self.name = name\n",
        "    self.grade = grade\n",
        "    self.age = age\n",
        "  \n",
        "  def __repr__(self):\n",
        "    return repr((self.name, self.grade, self.age))"
      ],
      "execution_count": 55,
      "outputs": []
    },
    {
      "cell_type": "code",
      "metadata": {
        "colab": {
          "base_uri": "https://localhost:8080/"
        },
        "id": "GZYjjxVFkNWy",
        "outputId": "0ab73071-3bbf-46f6-c98a-6ffefbeffd77"
      },
      "source": [
        "student_objects = [Student('john', 'A', 15), \n",
        "                  Student('jane', 'B', 12),\n",
        "                  Student('dave', 'B', 10)]\n",
        "print(student_objects)\n",
        "print(sorted(student_objects, key = lambda student: student.age))   # sort by age"
      ],
      "execution_count": 56,
      "outputs": [
        {
          "output_type": "stream",
          "text": [
            "[('john', 'A', 15), ('jane', 'B', 12), ('dave', 'B', 10)]\n",
            "[('dave', 'B', 10), ('jane', 'B', 12), ('john', 'A', 15)]\n"
          ],
          "name": "stdout"
        }
      ]
    },
    {
      "cell_type": "code",
      "metadata": {
        "colab": {
          "base_uri": "https://localhost:8080/"
        },
        "id": "V20bbIPCkckq",
        "outputId": "dc345260-d34f-43d1-f14b-b54dcaa67b2b"
      },
      "source": [
        "Students = collections.namedtuple(\"Students\", [\"name\", \"grade\", \"age\"])\n",
        "students_tuples = [Students('john', 'A', 15), \n",
        "                  Students('jane', 'B', 12),\n",
        "                  Students('dave', 'B', 10)]\n",
        "print(students_tuples)\n",
        "print(sorted(students_tuples, key = lambda student: student.age))"
      ],
      "execution_count": 61,
      "outputs": [
        {
          "output_type": "stream",
          "text": [
            "[Students(name='john', grade='A', age=15), Students(name='jane', grade='B', age=12), Students(name='dave', grade='B', age=10)]\n",
            "[Students(name='dave', grade='B', age=10), Students(name='jane', grade='B', age=12), Students(name='john', grade='A', age=15)]\n"
          ],
          "name": "stdout"
        }
      ]
    },
    {
      "cell_type": "markdown",
      "metadata": {
        "id": "bdUtBJ6GmBze"
      },
      "source": [
        "### Operator Module Functions\n",
        "\n",
        "The key-function patterns shown above are very common, so Python provides convenience functions to make accessor functions easier and faster. The operator module has `itemgetter()`, `attrgetter()`, and a `methodcaller()` function."
      ]
    },
    {
      "cell_type": "code",
      "metadata": {
        "id": "9uFiwgmNmNgq"
      },
      "source": [
        "from operator import itemgetter, attrgetter"
      ],
      "execution_count": 62,
      "outputs": []
    },
    {
      "cell_type": "code",
      "metadata": {
        "colab": {
          "base_uri": "https://localhost:8080/"
        },
        "id": "KLvxxD1pmPgv",
        "outputId": "52e61f1f-ffff-4841-cb8b-6c255abfbe42"
      },
      "source": [
        "print(sorted(student_tuples, key=itemgetter(2)))\n",
        "print(sorted(student_objects, key=attrgetter('age')))\n",
        "print(sorted(students_tuples, key=attrgetter('age')))\n",
        "print(sorted(students_tuples, key=itemgetter(2)))"
      ],
      "execution_count": 65,
      "outputs": [
        {
          "output_type": "stream",
          "text": [
            "[('dave', 'B', 10), ('jane', 'B', 12), ('john', 'A', 15)]\n",
            "[('dave', 'B', 10), ('jane', 'B', 12), ('john', 'A', 15)]\n",
            "[Students(name='dave', grade='B', age=10), Students(name='jane', grade='B', age=12), Students(name='john', grade='A', age=15)]\n",
            "[Students(name='dave', grade='B', age=10), Students(name='jane', grade='B', age=12), Students(name='john', grade='A', age=15)]\n"
          ],
          "name": "stdout"
        }
      ]
    },
    {
      "cell_type": "markdown",
      "metadata": {
        "id": "eFVAedHYmqCk"
      },
      "source": [
        "The operator module functions allow multiple levels of sorting. For example, to sort by grade then by age:"
      ]
    },
    {
      "cell_type": "code",
      "metadata": {
        "colab": {
          "base_uri": "https://localhost:8080/"
        },
        "id": "UXxj6fQlmqeg",
        "outputId": "590073e1-ac7d-412d-8c07-20f7d1761968"
      },
      "source": [
        "print(sorted(student_tuples, key=itemgetter(1, 2)))\n",
        "print(sorted(student_objects, key=attrgetter(\"grade\", \"age\")))\n",
        "print(sorted(students_tuples, key=attrgetter(\"grade\", \"age\")))"
      ],
      "execution_count": 68,
      "outputs": [
        {
          "output_type": "stream",
          "text": [
            "[('john', 'A', 15), ('dave', 'B', 10), ('jane', 'B', 12)]\n",
            "[('john', 'A', 15), ('dave', 'B', 10), ('jane', 'B', 12)]\n",
            "[Students(name='john', grade='A', age=15), Students(name='dave', grade='B', age=10), Students(name='jane', grade='B', age=12)]\n"
          ],
          "name": "stdout"
        }
      ]
    },
    {
      "cell_type": "markdown",
      "metadata": {
        "id": "YqDI-EX7okSg"
      },
      "source": [
        "### Sort Stability and Complex Sorts\n",
        "\n",
        "Sorts are guaranteed to be stable. That means that when multiple records have the same key, their original order is preserved."
      ]
    },
    {
      "cell_type": "code",
      "metadata": {
        "colab": {
          "base_uri": "https://localhost:8080/"
        },
        "id": "sFpqt6AmvSRi",
        "outputId": "4112b757-67a3-416a-e3fc-4d94e904b81b"
      },
      "source": [
        "data = [('red', 1), ('blue', 1), ('red', 2), ('blue', 2)]\n",
        "sorted(data, key=itemgetter(0))"
      ],
      "execution_count": 69,
      "outputs": [
        {
          "output_type": "execute_result",
          "data": {
            "text/plain": [
              "[('blue', 1), ('blue', 2), ('red', 1), ('red', 2)]"
            ]
          },
          "metadata": {
            "tags": []
          },
          "execution_count": 69
        }
      ]
    },
    {
      "cell_type": "markdown",
      "metadata": {
        "id": "NQ5i-9tLvbtp"
      },
      "source": [
        "This wonderful property lets you build complex sorts in a series of sorting steps. For example, to sort the student data by descending grade and then ascending age, do the age sort first and then sort again using grade:"
      ]
    },
    {
      "cell_type": "code",
      "metadata": {
        "colab": {
          "base_uri": "https://localhost:8080/"
        },
        "id": "hlD3QITUvWk7",
        "outputId": "e20cec54-5e40-4645-e307-ce38dffedf2a"
      },
      "source": [
        "s = sorted(student_objects, key=attrgetter(\"age\"))\n",
        "print(s)\n",
        "print(sorted(s, key=attrgetter(\"grade\"), reverse=True))"
      ],
      "execution_count": 87,
      "outputs": [
        {
          "output_type": "stream",
          "text": [
            "[('dave', 'B', 10), ('jane', 'B', 12), ('john', 'A', 15)]\n",
            "[('dave', 'B', 10), ('jane', 'B', 12), ('john', 'A', 15)]\n"
          ],
          "name": "stdout"
        }
      ]
    },
    {
      "cell_type": "code",
      "metadata": {
        "colab": {
          "base_uri": "https://localhost:8080/"
        },
        "id": "UfQpD3WUwauy",
        "outputId": "635d3d2f-10cb-43a0-c4d2-8a085fb0319d"
      },
      "source": [
        "ss = sorted(student_objects, key=attrgetter(\"grade\"), reverse=True)\n",
        "sorted(ss, key=attrgetter(\"age\"))"
      ],
      "execution_count": 89,
      "outputs": [
        {
          "output_type": "execute_result",
          "data": {
            "text/plain": [
              "[('dave', 'B', 10), ('jane', 'B', 12), ('john', 'A', 15)]"
            ]
          },
          "metadata": {
            "tags": []
          },
          "execution_count": 89
        }
      ]
    },
    {
      "cell_type": "markdown",
      "metadata": {
        "id": "IJaQfl3ww94N"
      },
      "source": [
        "This can be abstracted out into a wrapper function that can take a list and tuples of field and order to sort them on multiple passes."
      ]
    },
    {
      "cell_type": "code",
      "metadata": {
        "id": "1HHP0LA0xDm7"
      },
      "source": [
        "def multisort(xs, specs):\n",
        "  for key, reverse in reversed(specs):\n",
        "    xs.sort(key=attrgetter(key), reverse=reverse)\n",
        "  return xs"
      ],
      "execution_count": 83,
      "outputs": []
    },
    {
      "cell_type": "code",
      "metadata": {
        "colab": {
          "base_uri": "https://localhost:8080/"
        },
        "id": "C2yd8jmVxcRl",
        "outputId": "e089aeee-df2b-4589-9354-195970324de3"
      },
      "source": [
        "multisort(student_objects, (('grade', True), ('age', False)))"
      ],
      "execution_count": 86,
      "outputs": [
        {
          "output_type": "execute_result",
          "data": {
            "text/plain": [
              "[('dave', 'B', 10), ('jane', 'B', 12), ('john', 'A', 15)]"
            ]
          },
          "metadata": {
            "tags": []
          },
          "execution_count": 86
        }
      ]
    },
    {
      "cell_type": "markdown",
      "metadata": {
        "id": "BTJ22ziFWixP"
      },
      "source": [
        "## Deques and other Queues\n",
        "\n",
        "The `.append` and `.pop` methods make a list usable as a stack or a queue. But inserting and removing from the left of a list (the 0-index end) is costly because the entire list must be shifted.\n",
        "\n",
        "The class `collections.deque` is a thread-safe double-ended queue designed for fast inserting and removing from both ends. It is also the way to go if you need to keep a list of “last seen items” or something like that, because a deque can be bounded—i.e., created with a maximum length—and then, when it is full, it discards items from the opposite end when you append new ones. \n"
      ]
    },
    {
      "cell_type": "code",
      "metadata": {
        "id": "NOuwkZw5vW1M"
      },
      "source": [
        "from collections import deque"
      ],
      "execution_count": 36,
      "outputs": []
    },
    {
      "cell_type": "code",
      "metadata": {
        "colab": {
          "base_uri": "https://localhost:8080/"
        },
        "id": "onn_eFOnZoP2",
        "outputId": "00448b11-fda3-4cdb-da76-17a45a97da1a"
      },
      "source": [
        "# The optional maxlen argument sets the maximum number of items allowed in this instance of deque\n",
        "dq = deque(range(10), maxlen=10)\n",
        "print(dq)\n",
        "\n",
        "# Rotating with n > 0 takes items from the right end and prepends them to the left; \n",
        "# when n < 0 items are taken from left and appended to the right.\n",
        "dq.rotate(3)\n",
        "print(dq)\n",
        "dq.rotate(-4)\n",
        "print(dq)\n",
        "\n",
        "# Appending to a deque that is full (len(d) == d.maxlen) discards items from the other end;\n",
        "dq.appendleft(-1)\n",
        "print(dq)\n",
        "dq.append(-1)\n",
        "print(dq)\n",
        "dq.extend([11, 22, 33])\n",
        "print(dq)\n",
        "\n",
        "# extendleft(iter) works by appending each successive item of the iter argument \n",
        "# to the left of the deque, therefore the final position of the items is reversed.\n",
        "dq.extendleft([10, 20, 30, 40])\n",
        "print(dq)"
      ],
      "execution_count": 44,
      "outputs": [
        {
          "output_type": "stream",
          "text": [
            "deque([0, 1, 2, 3, 4, 5, 6, 7, 8, 9], maxlen=10)\n",
            "deque([7, 8, 9, 0, 1, 2, 3, 4, 5, 6], maxlen=10)\n",
            "deque([1, 2, 3, 4, 5, 6, 7, 8, 9, 0], maxlen=10)\n",
            "deque([-1, 1, 2, 3, 4, 5, 6, 7, 8, 9], maxlen=10)\n",
            "deque([1, 2, 3, 4, 5, 6, 7, 8, 9, -1], maxlen=10)\n",
            "deque([4, 5, 6, 7, 8, 9, -1, 11, 22, 33], maxlen=10)\n",
            "deque([40, 30, 20, 10, 4, 5, 6, 7, 8, 9], maxlen=10)\n"
          ],
          "name": "stdout"
        }
      ]
    }
  ]
}