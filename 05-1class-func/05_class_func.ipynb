{
  "nbformat": 4,
  "nbformat_minor": 0,
  "metadata": {
    "colab": {
      "name": "05-class-func.ipynb",
      "provenance": [],
      "collapsed_sections": [],
      "toc_visible": true,
      "authorship_tag": "ABX9TyPx3utAXP5hqoIaQE4jwcoB",
      "include_colab_link": true
    },
    "kernelspec": {
      "name": "python3",
      "display_name": "Python 3"
    }
  },
  "cells": [
    {
      "cell_type": "markdown",
      "metadata": {
        "id": "view-in-github",
        "colab_type": "text"
      },
      "source": [
        "<a href=\"https://colab.research.google.com/github/diwakar-vsingh/Fluent-Python/blob/version-0.0/05-1class-func/05_class_func.ipynb\" target=\"_parent\"><img src=\"https://colab.research.google.com/assets/colab-badge.svg\" alt=\"Open In Colab\"/></a>"
      ]
    },
    {
      "cell_type": "markdown",
      "metadata": {
        "id": "ViRalLHr2BBp"
      },
      "source": [
        "# First-Class Functions\n",
        "\n",
        "Functions in Python are first-class objects. Programming language theorists define a “first-class object” as a program entity that can be:\n",
        "1. Created at runtime.\n",
        "2. Assigned to a variable or element in a data structure.\n",
        "3. Passed as argument to a function.\n",
        "4. Returned as the result of a function\n",
        "\n",
        "Integers, strings, and dictionaries are other examples of first-class objects."
      ]
    },
    {
      "cell_type": "markdown",
      "metadata": {
        "id": "nE_tn2763KGf"
      },
      "source": [
        "## Treating a Function Like an Object\n"
      ]
    },
    {
      "cell_type": "code",
      "metadata": {
        "id": "5mhepZmdQvqk"
      },
      "source": [
        "# Created at runtime\n",
        "def factorial(n):\n",
        "  \"\"\"returns n\"\"\"\n",
        "  return 1 if n<2 else n*factorial(n-1)"
      ],
      "execution_count": 6,
      "outputs": []
    },
    {
      "cell_type": "code",
      "metadata": {
        "colab": {
          "base_uri": "https://localhost:8080/"
        },
        "id": "Rz7uHXt23exT",
        "outputId": "6bceaa61-d942-4a1f-bd7a-b652036ef932"
      },
      "source": [
        "print(factorial(10))\n",
        "print(factorial.__doc__) # Generate the help text of an object\n",
        "print(type(factorial)) # instance of the function clas"
      ],
      "execution_count": 7,
      "outputs": [
        {
          "output_type": "stream",
          "text": [
            "3628800\n",
            "returns n\n",
            "<class 'function'>\n"
          ],
          "name": "stdout"
        }
      ]
    },
    {
      "cell_type": "markdown",
      "metadata": {
        "id": "3GJ9s-KK4G0T"
      },
      "source": [
        "The following example shows the “first class” nature of a function object. We can assign it a variable `fact` and call it through that name. We can also pass `factorial` as an argument to `map`. The `map` function returns an iterable where each item is the result of the application of the first argument (a function) to succesive elements of the second argument (an iterable), `range(10)` in this example."
      ]
    },
    {
      "cell_type": "code",
      "metadata": {
        "colab": {
          "base_uri": "https://localhost:8080/"
        },
        "id": "IFU8Muoa3lEc",
        "outputId": "96ca5516-7c53-4b5c-f001-2aa41dbf7b2b"
      },
      "source": [
        "fact = factorial # Assigned to a variable\n",
        "print(fact)\n",
        "print(fact(5))\n",
        "print(map(fact, range(11)))\n",
        "print(list(map(fact, range(11))))"
      ],
      "execution_count": 8,
      "outputs": [
        {
          "output_type": "stream",
          "text": [
            "<function factorial at 0x7fb51e6371e0>\n",
            "120\n",
            "<map object at 0x7fb51e646400>\n",
            "[1, 1, 2, 6, 24, 120, 720, 5040, 40320, 362880, 3628800]\n"
          ],
          "name": "stdout"
        }
      ]
    },
    {
      "cell_type": "markdown",
      "metadata": {
        "id": "_1RvxUMV48DD"
      },
      "source": [
        "## Higher-Order Functions\n",
        "\n",
        "A function that takes a function as argument or returns a function as the result is a *higher-order function*. Some examples are `map`, `sorted`, etc.\n",
        "\n",
        "In the functional programming paradigm, some of the best known higher-order functions are `map`, `filter`, and `reduce`."
      ]
    },
    {
      "cell_type": "code",
      "metadata": {
        "colab": {
          "base_uri": "https://localhost:8080/"
        },
        "id": "2I0hFH7r4drp",
        "outputId": "d761833b-e81e-43c1-8ef2-231e01ca69da"
      },
      "source": [
        "fruits = ['strawberry', 'fig', 'apple', 'cherry', 'raspberry', 'banana']\n",
        "sorted(fruits, key=len)"
      ],
      "execution_count": 9,
      "outputs": [
        {
          "output_type": "execute_result",
          "data": {
            "text/plain": [
              "['fig', 'apple', 'cherry', 'banana', 'raspberry', 'strawberry']"
            ]
          },
          "metadata": {
            "tags": []
          },
          "execution_count": 9
        }
      ]
    },
    {
      "cell_type": "markdown",
      "metadata": {
        "id": "XgOA7lDw56Xb"
      },
      "source": [
        "## Modern Replacements for map, filter, and reduce\n",
        "\n",
        "The `map` and `filter` functions are still builtins in Python 3, but since the introduction of list comprehensions and generator expressions, they are not as important. A listcomp or a genexp does the job of `map` and `filter` combined, but is more readable.\n",
        "\n",
        "In Python 3, `map` and `filter` return generators— a form of iterator—so their direct substitute is now a generator expression."
      ]
    },
    {
      "cell_type": "code",
      "metadata": {
        "colab": {
          "base_uri": "https://localhost:8080/"
        },
        "id": "TPh5QQx354ZB",
        "outputId": "5b67b420-cb15-4c47-fae8-a81dafa5e1ca"
      },
      "source": [
        "# Build a list of factorials from 0 to 5 using map\n",
        "print(list(map(fact, range(6))))\n",
        "\n",
        "# Build a list of factorials from 0 to 5 using list comprehension\n",
        "print([fact(n) for n in range(6)])\n",
        "\n",
        "# List of factorials of odd numbers up to 5!, using both map and filter.\n",
        "print(list(map(fact, filter(lambda n: n % 2, range(6)))))\n",
        "\n",
        "# List of factorials of odd numbers up to 5!, using list comprehension.\n",
        "print([fact(n) for n in range(6) if n%2])"
      ],
      "execution_count": 10,
      "outputs": [
        {
          "output_type": "stream",
          "text": [
            "[1, 1, 2, 6, 24, 120]\n",
            "[1, 1, 2, 6, 24, 120]\n",
            "[1, 6, 120]\n",
            "[1, 6, 120]\n"
          ],
          "name": "stdout"
        }
      ]
    },
    {
      "cell_type": "markdown",
      "metadata": {
        "id": "WlhgQHiZ8Izj"
      },
      "source": [
        "The common idea of `sum` and `reduce` is to apply some operation to successive items in a sequence, accumulating previous results, thus reducing a sequence of values to a single value.\n",
        "\n",
        "Other reducing built-ins are `all` and `any`: \n",
        "\n",
        "`all(iterable)`: Returns True if every element of the iterable is truthy; `all([])`: returns `True`. \n",
        "\n",
        "`any(iterable)`: Returns True if any element of the iterable is truthy; `any([])` returns `False`."
      ]
    },
    {
      "cell_type": "markdown",
      "metadata": {
        "id": "iqS9wvLM80Jw"
      },
      "source": [
        "## Anonymous Functions\n",
        "\n",
        "To use a higher-order function, sometimes it is convenient to create a small, one-off function. The lambda keyword creates an anonymous function within a Python expression.\n",
        "\n",
        "However, the simple syntax of Python limits the body of lambda functions to be pure expressions. In other words, the body of a lambda cannot make assignments or use any other Python statement such as while, try, etc.\n",
        "\n",
        "The best use of anonymous functions is in the context of an argument list. The `lambda` expression is just one of several kinds of callable objects in Python."
      ]
    },
    {
      "cell_type": "code",
      "metadata": {
        "colab": {
          "base_uri": "https://localhost:8080/"
        },
        "id": "INDHj1No8eGl",
        "outputId": "241aff17-36e7-472b-8134-972236fbfa78"
      },
      "source": [
        "# Sorting a list of words by their reversed spelling using lambda\n",
        "fruits = ['strawberry', 'fig', 'apple', 'cherry', 'raspberry', 'banana']\n",
        "print(sorted(fruits, key=lambda word: word[::-1]))"
      ],
      "execution_count": 11,
      "outputs": [
        {
          "output_type": "stream",
          "text": [
            "['banana', 'apple', 'fig', 'raspberry', 'strawberry', 'cherry']\n"
          ],
          "name": "stdout"
        }
      ]
    },
    {
      "cell_type": "markdown",
      "metadata": {
        "id": "FTobOwzt98f4"
      },
      "source": [
        "## The Seven Flavors of Callable Objects\n",
        "\n",
        "The call operator (i.e., `()`) may be applied to other objects beyond user-defined functions. To determine whether an object is callable, use the `callable()` built-in function. The Python Data Model documentation lists seven callable types:\n",
        "\n",
        "***1. User-defined functions:*** Created with `def` statements or `lambda` expressions.\n",
        "\n",
        "***2. Built-in functions:*** A function implemented in C like `len` or `time.time`.\n",
        "\n",
        "***3. Built-in methods:*** Methods implemented in C, like `dict.get`.\n",
        "\n",
        "***4. Methods:*** Functions defined in the class body.\n",
        "\n",
        "***5. Classes:*** When invoked, a class runs its `__new__` method to create an instance, then `__init__` to initialize it, and finally the instance is returned to the caller. Because there is no new operator in Python, calling a class is like calling a function. \n",
        "\n",
        "***6. Class instances:*** If a class defines a `__call__` method, then its instances may be invoked as functions.\n",
        "\n",
        "***7. Generator functions:***: Functions or methods that use the `yield` keyword. When called, generator functions return a generator object."
      ]
    },
    {
      "cell_type": "markdown",
      "metadata": {
        "id": "EI7Raymt_ifK"
      },
      "source": [
        "Given the variety of existing callable types in Python, the safest way to determine whether an object is callable is to use the calla ble() built-in:"
      ]
    },
    {
      "cell_type": "code",
      "metadata": {
        "colab": {
          "base_uri": "https://localhost:8080/"
        },
        "id": "z5X_XHOB-mi5",
        "outputId": "2d2e19f7-69ea-4190-ce08-27f458b2384f"
      },
      "source": [
        "[callable(obj) for obj in (abs, str, 13)]"
      ],
      "execution_count": 12,
      "outputs": [
        {
          "output_type": "execute_result",
          "data": {
            "text/plain": [
              "[True, True, False]"
            ]
          },
          "metadata": {
            "tags": []
          },
          "execution_count": 12
        }
      ]
    },
    {
      "cell_type": "markdown",
      "metadata": {
        "id": "l_XKJGtB_2qI"
      },
      "source": [
        "## User-Defined Callable Types\n",
        "\n",
        "Not only are Python functions real objects, but arbitrary Python objects may also be made to behave like functions. Implementing a `__call__` instance method is all it takes."
      ]
    },
    {
      "cell_type": "markdown",
      "metadata": {
        "id": "X2yo82BqAKYn"
      },
      "source": [
        "The following example implements a `BingoCage` class. An instance is built from any iterable, and stores an internal list of items, in random order. Calling the instance pops an item."
      ]
    },
    {
      "cell_type": "code",
      "metadata": {
        "id": "6VZQi4Jm_gZM"
      },
      "source": [
        "import random"
      ],
      "execution_count": 13,
      "outputs": []
    },
    {
      "cell_type": "code",
      "metadata": {
        "id": "s7MRoTu3ATRJ"
      },
      "source": [
        "class BingoCage():\n",
        "  def __init__(self, items):\n",
        "    \"\"\"accepts any iterable\"\"\"\n",
        "    self._items = list(items)\n",
        "    random.shuffle(self._items)\n",
        "  \n",
        "  def pick(self):\n",
        "    try: \n",
        "      return self._items.pop()\n",
        "    except IndexError:\n",
        "      raise LookupError(\"pick from empty BingoCage\")\n",
        "\n",
        "  def __call__(self):\n",
        "    return self.pick()"
      ],
      "execution_count": 14,
      "outputs": []
    },
    {
      "cell_type": "code",
      "metadata": {
        "colab": {
          "base_uri": "https://localhost:8080/"
        },
        "id": "pshIiDrzBLOh",
        "outputId": "9b07bb28-13ea-42cf-8dfa-122db79d05ec"
      },
      "source": [
        "bingo = BingoCage(range(5))\n",
        "print(bingo._items)\n",
        "print(bingo.pick())\n",
        "print(bingo())\n",
        "print(callable(bingo))"
      ],
      "execution_count": 15,
      "outputs": [
        {
          "output_type": "stream",
          "text": [
            "[1, 4, 3, 2, 0]\n",
            "0\n",
            "2\n",
            "True\n"
          ],
          "name": "stdout"
        }
      ]
    },
    {
      "cell_type": "markdown",
      "metadata": {
        "id": "hBCGJOz5CZbG"
      },
      "source": [
        "## Function Introspection\n",
        "\n",
        "Function objects have many attributes beyond `__doc__`."
      ]
    },
    {
      "cell_type": "code",
      "metadata": {
        "colab": {
          "base_uri": "https://localhost:8080/"
        },
        "id": "2QCk9hPVCgxb",
        "outputId": "1b38e6ff-d65f-43ad-ef52-23d1bfb40c15"
      },
      "source": [
        "dir(factorial)"
      ],
      "execution_count": 16,
      "outputs": [
        {
          "output_type": "execute_result",
          "data": {
            "text/plain": [
              "['__annotations__',\n",
              " '__call__',\n",
              " '__class__',\n",
              " '__closure__',\n",
              " '__code__',\n",
              " '__defaults__',\n",
              " '__delattr__',\n",
              " '__dict__',\n",
              " '__dir__',\n",
              " '__doc__',\n",
              " '__eq__',\n",
              " '__format__',\n",
              " '__ge__',\n",
              " '__get__',\n",
              " '__getattribute__',\n",
              " '__globals__',\n",
              " '__gt__',\n",
              " '__hash__',\n",
              " '__init__',\n",
              " '__init_subclass__',\n",
              " '__kwdefaults__',\n",
              " '__le__',\n",
              " '__lt__',\n",
              " '__module__',\n",
              " '__name__',\n",
              " '__ne__',\n",
              " '__new__',\n",
              " '__qualname__',\n",
              " '__reduce__',\n",
              " '__reduce_ex__',\n",
              " '__repr__',\n",
              " '__setattr__',\n",
              " '__sizeof__',\n",
              " '__str__',\n",
              " '__subclasshook__']"
            ]
          },
          "metadata": {
            "tags": []
          },
          "execution_count": 16
        }
      ]
    },
    {
      "cell_type": "markdown",
      "metadata": {
        "id": "3KbYNGLWEPQY"
      },
      "source": [
        "## From Positional to Keyword-Only Parameters\n",
        "\n",
        "One of the best features of Python functions is the extremely flexible parameter handling mechanism, enhanced with keyword-only arguments in Python 3. Closely related are the use of * and ** to “explode” iterables and mappings into separate arguments when we call a function."
      ]
    },
    {
      "cell_type": "code",
      "metadata": {
        "id": "XVpPy31XCioJ"
      },
      "source": [
        "def tag(name, *content, cls=None, **attrs):\n",
        "  \"\"\"Generate one or more HTML tags\"\"\"\n",
        "  if cls:\n",
        "    attrs[\"class\"] = cls\n",
        "\n",
        "  if attrs:\n",
        "    attr_str = \"\".join(' %s=\"%s\"' %(attr, value) for attr, value in sorted(attrs.items()))\n",
        "  else:\n",
        "    attr_str = \"\"\n",
        "  \n",
        "  if content:\n",
        "    return \"\\n\".join('<%s%s>%s</%s>' % (name, attr_str, c, name) for c in content)\n",
        "  else:\n",
        "    return '<%s%s />' % (name, attr_str)"
      ],
      "execution_count": 17,
      "outputs": []
    },
    {
      "cell_type": "code",
      "metadata": {
        "colab": {
          "base_uri": "https://localhost:8080/"
        },
        "id": "SiDQm2nYFoDJ",
        "outputId": "3706a66c-e048-46f3-b3b6-7cf2e36b3927"
      },
      "source": [
        "print(tag(\"br\")) # A single positional argument produces an empty tag with that name.\n",
        "print()\n",
        "print(tag(\"p\", \"hello\")) # Any number of arguments after the first are captured by *content as a tuple.\n",
        "print()\n",
        "print(tag('p', 'hello', 'world'))\n",
        "print()\n",
        "print(tag('p', 'hello', id=33)) # Keyword arguments not explicitly named in the tag signature are captured by **attrs as a dict.\n",
        "print()\n",
        "print(tag('p', 'hello', 'world', cls='sidebar')) # The cls parameter can only be passed as a keyword argument.\n",
        "print()\n",
        "print(tag(content='testing', name=\"img\")) # Even the first positional argument can be passed as a keyword when tag is called.\n",
        "print()\n",
        "# Prefixing the my_tag dict with ** passes all its items as separate arguments, \n",
        "# which are then bound to the named parameters, with the remaining caught by **attrs.\n",
        "my_tag = {'name': 'img', 'title': 'Sunset Boulevard', 'src': 'sunset.jpg', 'cls': 'framed'}\n",
        "print(tag(**my_tag))"
      ],
      "execution_count": 18,
      "outputs": [
        {
          "output_type": "stream",
          "text": [
            "<br />\n",
            "\n",
            "<p>hello</p>\n",
            "\n",
            "<p>hello</p>\n",
            "<p>world</p>\n",
            "\n",
            "<p id=\"33\">hello</p>\n",
            "\n",
            "<p class=\"sidebar\">hello</p>\n",
            "<p class=\"sidebar\">world</p>\n",
            "\n",
            "<img content=\"testing\" />\n",
            "\n",
            "<img class=\"framed\" src=\"sunset.jpg\" title=\"Sunset Boulevard\" />\n"
          ],
          "name": "stdout"
        }
      ]
    },
    {
      "cell_type": "markdown",
      "metadata": {
        "id": "rZJ-p7B5Za9b"
      },
      "source": [
        "In the example above, the `cls` parameter can only be given as a keyword argument—it will never capture unnamed positional arguments. To specify keyword-only arguments when defining a function, name them after the argument prefixed with *. If you don’t want to support variable positional arguments but still want keyword-only arguments, put a * by itself in the signature.\n",
        "\n",
        "Note that keyword-only arguments do not need to have a default value: they can be mandatory."
      ]
    },
    {
      "cell_type": "code",
      "metadata": {
        "colab": {
          "base_uri": "https://localhost:8080/"
        },
        "id": "oTlesiRmXVtK",
        "outputId": "88bd956a-b8fb-40be-d83b-0262cb595e2c"
      },
      "source": [
        "def f(a, *, b):\n",
        "  return a, b\n",
        "\n",
        "f(1, b=2)"
      ],
      "execution_count": 19,
      "outputs": [
        {
          "output_type": "execute_result",
          "data": {
            "text/plain": [
              "(1, 2)"
            ]
          },
          "metadata": {
            "tags": []
          },
          "execution_count": 19
        }
      ]
    },
    {
      "cell_type": "markdown",
      "metadata": {
        "id": "JZ8ZXX-7exuD"
      },
      "source": [
        "## Functions Annotations\n",
        "\n",
        "Python 3 provides syntax to attach metadata to the parameters of a function declaration and its return value. \n",
        "\n",
        "The only thing Python does with annotations is to store them in the `__annotations__` attribute of the function. Nothing else: no checks, enforcement, validation, or any other action is performed. In other words, annotations have no meaning to the Python interpreter. They are just metadata that may be used by tools, such as IDEs, frameworks, and decorators. "
      ]
    },
    {
      "cell_type": "code",
      "metadata": {
        "colab": {
          "base_uri": "https://localhost:8080/"
        },
        "id": "gCFSEH-Ie6Il",
        "outputId": "3e2cfb64-a8a2-40ac-83f9-e072262903c7"
      },
      "source": [
        "def clip(text:str, max_len:'int > 0'=80) -> str:\n",
        "  \"\"\"Return text clipped at the last space before or after max_len \"\"\"\n",
        "  return text\n",
        "\n",
        "print(clip.__annotations__)"
      ],
      "execution_count": 20,
      "outputs": [
        {
          "output_type": "stream",
          "text": [
            "{'text': <class 'str'>, 'max_len': 'int > 0', 'return': <class 'str'>}\n"
          ],
          "name": "stdout"
        }
      ]
    },
    {
      "cell_type": "markdown",
      "metadata": {
        "id": "nhMm_nVmhYsV"
      },
      "source": [
        "## Packages for Functional Programming"
      ]
    },
    {
      "cell_type": "markdown",
      "metadata": {
        "id": "wJppMpyjhbYq"
      },
      "source": [
        "### The operator Module\n",
        "\n",
        "Often in functional programming it is convenient to use an arithmetic operator as a function. For example, suppose you want to multiply a sequence of numbers to calculate factorials without using recursion."
      ]
    },
    {
      "cell_type": "code",
      "metadata": {
        "id": "wsJTlay5fKlQ"
      },
      "source": [
        "from functools import reduce\n",
        "from operator import mul"
      ],
      "execution_count": 21,
      "outputs": []
    },
    {
      "cell_type": "code",
      "metadata": {
        "colab": {
          "base_uri": "https://localhost:8080/"
        },
        "id": "Z18-dYYXiL7W",
        "outputId": "ed0b55a0-bcea-4fe5-afd5-731f357f3309"
      },
      "source": [
        "def factorial(n):\n",
        "  return reduce(mul, range(1, n+1))\n",
        "\n",
        "factorial(5)"
      ],
      "execution_count": 22,
      "outputs": [
        {
          "output_type": "execute_result",
          "data": {
            "text/plain": [
              "120"
            ]
          },
          "metadata": {
            "tags": []
          },
          "execution_count": 22
        }
      ]
    },
    {
      "cell_type": "markdown",
      "metadata": {
        "id": "XXC9BYuqiZmw"
      },
      "source": [
        "Another group of one-trick lambdas that operator replaces are functions to pick items from sequences or read attributes from objects: `itemgetter` and `attrgetter` actually build custom functions to do that."
      ]
    },
    {
      "cell_type": "code",
      "metadata": {
        "id": "3r9938G6iUu9"
      },
      "source": [
        "from operator import itemgetter, attrgetter"
      ],
      "execution_count": 23,
      "outputs": []
    },
    {
      "cell_type": "code",
      "metadata": {
        "id": "zIlpbgHuiihw"
      },
      "source": [
        "# sorting a list of tuples by the value of one field i.e. country.\n",
        "metro_data = [('Tokyo', 'JP', 36.933, (35.689722, 139.691667)),\n",
        "              ('Delhi NCR', 'IN', 21.935, (28.613889, 77.208889)),\n",
        "              ('Mexico City', 'MX', 20.142, (19.433333, -99.133333)),\n",
        "              ('New York-Newark', 'US', 20.104, (40.808611, -74.020386)),\n",
        "              ('Sao Paulo', 'BR', 19.649, (-23.547778, -46.635833))]"
      ],
      "execution_count": 24,
      "outputs": []
    },
    {
      "cell_type": "code",
      "metadata": {
        "colab": {
          "base_uri": "https://localhost:8080/"
        },
        "id": "e_Bt0-XejV2P",
        "outputId": "e6c44fc6-c5ec-405f-b078-4849fce489e2"
      },
      "source": [
        "sorted(metro_data, key=itemgetter(1))"
      ],
      "execution_count": 25,
      "outputs": [
        {
          "output_type": "execute_result",
          "data": {
            "text/plain": [
              "[('Sao Paulo', 'BR', 19.649, (-23.547778, -46.635833)),\n",
              " ('Delhi NCR', 'IN', 21.935, (28.613889, 77.208889)),\n",
              " ('Tokyo', 'JP', 36.933, (35.689722, 139.691667)),\n",
              " ('Mexico City', 'MX', 20.142, (19.433333, -99.133333)),\n",
              " ('New York-Newark', 'US', 20.104, (40.808611, -74.020386))]"
            ]
          },
          "metadata": {
            "tags": []
          },
          "execution_count": 25
        }
      ]
    },
    {
      "cell_type": "markdown",
      "metadata": {
        "id": "6DWXoQGjjduR"
      },
      "source": [
        "If you pass multiple index arguments to `itemgetter`, the function it builds will return tuples with the extracted values:"
      ]
    },
    {
      "cell_type": "code",
      "metadata": {
        "colab": {
          "base_uri": "https://localhost:8080/"
        },
        "id": "KBf6lP91ix4-",
        "outputId": "5c86a838-92a8-4f31-9073-87b23defdbdf"
      },
      "source": [
        "cc_name = itemgetter(1, 0)\n",
        "print(cc_name)\n",
        "for city in metro_data:\n",
        "  print(cc_name(city))"
      ],
      "execution_count": 26,
      "outputs": [
        {
          "output_type": "stream",
          "text": [
            "operator.itemgetter(1, 0)\n",
            "('JP', 'Tokyo')\n",
            "('IN', 'Delhi NCR')\n",
            "('MX', 'Mexico City')\n",
            "('US', 'New York-Newark')\n",
            "('BR', 'Sao Paulo')\n"
          ],
          "name": "stdout"
        }
      ]
    },
    {
      "cell_type": "markdown",
      "metadata": {
        "id": "ueK9_UYzj3BP"
      },
      "source": [
        "Because itemgetter uses the `[]` operator, it supports not only sequences but also mappings and any class that implements `__getitem__`.\n",
        "\n",
        "A sibling of `itemgetter` is `attrgetter`, which creates functions to extract object attributes by name. If you pass `attrgetter` several attribute names as arguments, it also returns a tuple of values. In addition, if any argument name contains a .(dot), attrgetter navigates through nested objects to retrieve the attribute."
      ]
    },
    {
      "cell_type": "code",
      "metadata": {
        "colab": {
          "base_uri": "https://localhost:8080/"
        },
        "id": "sAalOkW7kwqX",
        "outputId": "1e7386e7-5e6c-473a-e955-11223a31207a"
      },
      "source": [
        "from collections import namedtuple\n",
        "\n",
        "LatLong = namedtuple('LatLong', 'lat long')\n",
        "Metropolis = namedtuple('Metropolis', [\"name\", \"cc\", \"pop\", \"coord\"])\n",
        "metro_areas = [Metropolis(name, cc, pop, LatLong(lat, long)) \n",
        "              for name, cc, pop, (lat, long) in metro_data]\n",
        "metro_areas"
      ],
      "execution_count": 27,
      "outputs": [
        {
          "output_type": "execute_result",
          "data": {
            "text/plain": [
              "[Metropolis(name='Tokyo', cc='JP', pop=36.933, coord=LatLong(lat=35.689722, long=139.691667)),\n",
              " Metropolis(name='Delhi NCR', cc='IN', pop=21.935, coord=LatLong(lat=28.613889, long=77.208889)),\n",
              " Metropolis(name='Mexico City', cc='MX', pop=20.142, coord=LatLong(lat=19.433333, long=-99.133333)),\n",
              " Metropolis(name='New York-Newark', cc='US', pop=20.104, coord=LatLong(lat=40.808611, long=-74.020386)),\n",
              " Metropolis(name='Sao Paulo', cc='BR', pop=19.649, coord=LatLong(lat=-23.547778, long=-46.635833))]"
            ]
          },
          "metadata": {
            "tags": []
          },
          "execution_count": 27
        }
      ]
    },
    {
      "cell_type": "code",
      "metadata": {
        "colab": {
          "base_uri": "https://localhost:8080/"
        },
        "id": "zrj4Z_TKlHIQ",
        "outputId": "c26a5b72-c5f8-4e8a-beb8-efe366c7a327"
      },
      "source": [
        "print(metro_areas[0])\n",
        "print(metro_areas[0].coord.lat)"
      ],
      "execution_count": 28,
      "outputs": [
        {
          "output_type": "stream",
          "text": [
            "Metropolis(name='Tokyo', cc='JP', pop=36.933, coord=LatLong(lat=35.689722, long=139.691667))\n",
            "35.689722\n"
          ],
          "name": "stdout"
        }
      ]
    },
    {
      "cell_type": "code",
      "metadata": {
        "colab": {
          "base_uri": "https://localhost:8080/"
        },
        "id": "8opn557Tlmb0",
        "outputId": "e259ef35-b428-49a0-8a47-1d4ccf00974a"
      },
      "source": [
        "name_lat = attrgetter('name', 'coord.lat')\n",
        "name_lat"
      ],
      "execution_count": 29,
      "outputs": [
        {
          "output_type": "execute_result",
          "data": {
            "text/plain": [
              "operator.attrgetter('name', 'coord.lat')"
            ]
          },
          "metadata": {
            "tags": []
          },
          "execution_count": 29
        }
      ]
    },
    {
      "cell_type": "code",
      "metadata": {
        "colab": {
          "base_uri": "https://localhost:8080/"
        },
        "id": "AiG73HI8lnHC",
        "outputId": "eb6b7351-e22e-4020-c23c-673ecc4ab5b9"
      },
      "source": [
        "for city in sorted(metro_areas): \n",
        "  print(name_lat(city))"
      ],
      "execution_count": 30,
      "outputs": [
        {
          "output_type": "stream",
          "text": [
            "('Delhi NCR', 28.613889)\n",
            "('Mexico City', 19.433333)\n",
            "('New York-Newark', 40.808611)\n",
            "('Sao Paulo', -23.547778)\n",
            "('Tokyo', 35.689722)\n"
          ],
          "name": "stdout"
        }
      ]
    },
    {
      "cell_type": "markdown",
      "metadata": {
        "id": "08rG8gcDmK5Q"
      },
      "source": [
        "Here is a partial list of functions defined in operator (names starting with _ are omitted, because they are mostly implementation details):"
      ]
    },
    {
      "cell_type": "code",
      "metadata": {
        "colab": {
          "base_uri": "https://localhost:8080/"
        },
        "id": "4R2qmFfRmFNf",
        "outputId": "b097da76-2062-4d5d-c5ac-e40c721c24ef"
      },
      "source": [
        "import operator\n",
        "[name for name in dir(operator) if not name.startswith('_')]"
      ],
      "execution_count": 31,
      "outputs": [
        {
          "output_type": "execute_result",
          "data": {
            "text/plain": [
              "['abs',\n",
              " 'add',\n",
              " 'and_',\n",
              " 'attrgetter',\n",
              " 'concat',\n",
              " 'contains',\n",
              " 'countOf',\n",
              " 'delitem',\n",
              " 'eq',\n",
              " 'floordiv',\n",
              " 'ge',\n",
              " 'getitem',\n",
              " 'gt',\n",
              " 'iadd',\n",
              " 'iand',\n",
              " 'iconcat',\n",
              " 'ifloordiv',\n",
              " 'ilshift',\n",
              " 'imatmul',\n",
              " 'imod',\n",
              " 'imul',\n",
              " 'index',\n",
              " 'indexOf',\n",
              " 'inv',\n",
              " 'invert',\n",
              " 'ior',\n",
              " 'ipow',\n",
              " 'irshift',\n",
              " 'is_',\n",
              " 'is_not',\n",
              " 'isub',\n",
              " 'itemgetter',\n",
              " 'itruediv',\n",
              " 'ixor',\n",
              " 'le',\n",
              " 'length_hint',\n",
              " 'lshift',\n",
              " 'lt',\n",
              " 'matmul',\n",
              " 'methodcaller',\n",
              " 'mod',\n",
              " 'mul',\n",
              " 'ne',\n",
              " 'neg',\n",
              " 'not_',\n",
              " 'or_',\n",
              " 'pos',\n",
              " 'pow',\n",
              " 'rshift',\n",
              " 'setitem',\n",
              " 'sub',\n",
              " 'truediv',\n",
              " 'truth',\n",
              " 'xor']"
            ]
          },
          "metadata": {
            "tags": []
          },
          "execution_count": 31
        }
      ]
    },
    {
      "cell_type": "markdown",
      "metadata": {
        "id": "8ijaefQXmpBG"
      },
      "source": [
        "`methodcalled` is similar to `attrgetter` and `itemgetter` in that it creates a function on the fly. The function it creates calls a method by name on the object given as argument."
      ]
    },
    {
      "cell_type": "code",
      "metadata": {
        "id": "GxZEkhSlmxAy"
      },
      "source": [
        "from operator import methodcaller"
      ],
      "execution_count": 32,
      "outputs": []
    },
    {
      "cell_type": "code",
      "metadata": {
        "colab": {
          "base_uri": "https://localhost:8080/"
        },
        "id": "IVNgJNpNmyfJ",
        "outputId": "7a9f2bfb-a803-4a5a-9c95-98f8d8602c35"
      },
      "source": [
        "s = 'The time has come'\n",
        "upcase = methodcaller(\"upper\")\n",
        "print(s.upper())\n",
        "print(upcase(s))\n",
        "\n",
        "hiphenate = methodcaller('replace', ' ', '-')\n",
        "print(s.replace(\" \", \"-\"))\n",
        "print(hiphenate(s))"
      ],
      "execution_count": 33,
      "outputs": [
        {
          "output_type": "stream",
          "text": [
            "THE TIME HAS COME\n",
            "THE TIME HAS COME\n",
            "The-time-has-come\n",
            "The-time-has-come\n"
          ],
          "name": "stdout"
        }
      ]
    },
    {
      "cell_type": "markdown",
      "metadata": {
        "id": "Tg3flFSOniaA"
      },
      "source": [
        "### Freezing Arguments with functools.partial\n",
        "\n",
        "The `functools` module brings together a handful of higher-order functions. The best known of them is probably `reduce`. Of the remaining functions in `functools`, the most useful is `partial` and its variation, `partialmethod`.\n",
        "\n",
        "`functools.partial` is a higher-order function that allows partial application of a function. Given a function, a partial application produces a new callable with some of the arguments of the original function fixed. This is useful to adapt a function that takes one or more arguments to an API that requires a callback with fewer arguments."
      ]
    },
    {
      "cell_type": "code",
      "metadata": {
        "id": "t4FQ6pOqoXmW"
      },
      "source": [
        "from operator import mul\n",
        "from functools import partial"
      ],
      "execution_count": 34,
      "outputs": []
    },
    {
      "cell_type": "code",
      "metadata": {
        "colab": {
          "base_uri": "https://localhost:8080/"
        },
        "id": "-0wbuxHloZAO",
        "outputId": "c8f81703-f9cc-480b-bbde-567626010e85"
      },
      "source": [
        "# Create new triple function from mul, binding first positional argument to 3.\n",
        "triple = partial(mul, 3)\n",
        "print(triple(4))\n",
        "print(list(map(triple, range(1, 10))))"
      ],
      "execution_count": 35,
      "outputs": [
        {
          "output_type": "stream",
          "text": [
            "12\n",
            "[3, 6, 9, 12, 15, 18, 21, 24, 27]\n"
          ],
          "name": "stdout"
        }
      ]
    },
    {
      "cell_type": "markdown",
      "metadata": {
        "id": "9AJe6hynpLDy"
      },
      "source": [
        "`partial` takes a callable as first argument, followed by an arbitrary number of positional and keyword arguments to bind."
      ]
    },
    {
      "cell_type": "code",
      "metadata": {
        "colab": {
          "base_uri": "https://localhost:8080/"
        },
        "id": "r-uheRFvomTp",
        "outputId": "60e1cc6f-917d-460f-9377-826a3181becc"
      },
      "source": [
        "print(tag)\n",
        "# Create picture function from tag by fixing the first positional argument with\n",
        "# 'img' and the cls keyword argument with 'pic-frame'.\n",
        "picture = partial(tag, 'img', cls='pic-frame')\n",
        "print(picture(src='wumpus.jpeg'))\n",
        "print(picture)\n",
        "print(picture.func)\n",
        "print(picture.args)\n",
        "print(picture.keywords)"
      ],
      "execution_count": 36,
      "outputs": [
        {
          "output_type": "stream",
          "text": [
            "<function tag at 0x7fb51e6987b8>\n",
            "<img class=\"pic-frame\" src=\"wumpus.jpeg\" />\n",
            "functools.partial(<function tag at 0x7fb51e6987b8>, 'img', cls='pic-frame')\n",
            "<function tag at 0x7fb51e6987b8>\n",
            "('img',)\n",
            "{'cls': 'pic-frame'}\n"
          ],
          "name": "stdout"
        }
      ]
    },
    {
      "cell_type": "markdown",
      "metadata": {
        "id": "5mn9qnCRqCd1"
      },
      "source": [
        "The `functools.partialmethod` function (new in Python 3.4) does the same job as `partial`, but is designed to work with methods.\n",
        "\n",
        "An impressive `functools` function is `lru_cache`, which does memorization—a form of automatic optimization that works by storing the results of function calls to avoid expensive recalculations."
      ]
    },
    {
      "cell_type": "markdown",
      "metadata": {
        "id": "d36FB_A9z5Ud"
      },
      "source": [
        "## Practical Examples"
      ]
    },
    {
      "cell_type": "markdown",
      "metadata": {
        "id": "L5tD5JuYz7M5"
      },
      "source": [
        "### 1. Writing Functions That Accept Any Number of Arguments"
      ]
    },
    {
      "cell_type": "code",
      "metadata": {
        "id": "Q9x_JYA3z6xj"
      },
      "source": [
        "def avg(first, *rest): # rest is a tuple of all the extra positional arguments passed\n",
        "  return (first + sum(rest)) / (1 + len(rest))"
      ],
      "execution_count": 37,
      "outputs": []
    },
    {
      "cell_type": "code",
      "metadata": {
        "colab": {
          "base_uri": "https://localhost:8080/"
        },
        "id": "xMv2Pw3Y0HpE",
        "outputId": "c1337c27-4bd5-4224-9814-2fc6faabf6d4"
      },
      "source": [
        "print(avg(1))\n",
        "print(avg(1, 2, 3, 4, 5))"
      ],
      "execution_count": 38,
      "outputs": [
        {
          "output_type": "stream",
          "text": [
            "1.0\n",
            "3.0\n"
          ],
          "name": "stdout"
        }
      ]
    },
    {
      "cell_type": "markdown",
      "metadata": {
        "id": "SkTOblcT0Y-T"
      },
      "source": [
        "To accept any number of keyword arguments, use an argument that starts with **."
      ]
    },
    {
      "cell_type": "code",
      "metadata": {
        "id": "vLFPLaBH0Za7"
      },
      "source": [
        "import html"
      ],
      "execution_count": 39,
      "outputs": []
    },
    {
      "cell_type": "code",
      "metadata": {
        "id": "1HsXp2UZ0btJ"
      },
      "source": [
        "def make_element(name, value, **attrs): \n",
        "  # Here, attrs is a dictionary that holds the passed keyword arguments (if any).\n",
        "  keyvals = [' %s=\"%s\"' % item for item in attrs.items()]\n",
        "  attr_str = \"\".join(keyvals)\n",
        "  element = '<{name}{attrs}>{value}</{name}>'.format(name=name,\n",
        "                                                     attrs=attr_str,\n",
        "                                                     value=html.escape(value))\n",
        "  return element"
      ],
      "execution_count": 40,
      "outputs": []
    },
    {
      "cell_type": "code",
      "metadata": {
        "colab": {
          "base_uri": "https://localhost:8080/"
        },
        "id": "kPiA0wAy0ktt",
        "outputId": "7411a395-0c0e-4e09-a725-0c43dd5a75ee"
      },
      "source": [
        "print(make_element('item', 'Albatross', size='large', quantity=6))\n",
        "print(make_element('p', '<spam>'))"
      ],
      "execution_count": 41,
      "outputs": [
        {
          "output_type": "stream",
          "text": [
            "<item size=\"large\" quantity=\"6\">Albatross</item>\n",
            "<p>&lt;spam&gt;</p>\n"
          ],
          "name": "stdout"
        }
      ]
    },
    {
      "cell_type": "markdown",
      "metadata": {
        "id": "rKXLocSTT8uE"
      },
      "source": [
        "If you want a function that can accept both any number of positional and keyword-only arguments, use * and ** together. All of the positional arguments are placed into a tuple args, and all of the keyword arguments are placed into a dictionary kwargs.\n"
      ]
    },
    {
      "cell_type": "code",
      "metadata": {
        "id": "W5QNkmKpT-Mn"
      },
      "source": [
        "def anyargs(*args, **kwargs): \n",
        "  print(args) # A tuple \n",
        "  print(kwargs) # A dict"
      ],
      "execution_count": 42,
      "outputs": []
    },
    {
      "cell_type": "markdown",
      "metadata": {
        "id": "-HiPZm8_UTn-"
      },
      "source": [
        "A * argument can only appear as the last positional argument in a function definition. A ** argument can only appear as the last argument. A subtle aspect of function definitions is that arguments can still appear after a * argument."
      ]
    },
    {
      "cell_type": "code",
      "metadata": {
        "id": "1uUG8ka1UT94"
      },
      "source": [
        "def a(x, *args, y): pass\n",
        "def b(x, *args, y, **kwargs): pass"
      ],
      "execution_count": 43,
      "outputs": []
    },
    {
      "cell_type": "markdown",
      "metadata": {
        "id": "riZr-Y5cUZ_q"
      },
      "source": [
        "### 2. Writing Functions That Only Accept Certain Arguments Using Keywords\n",
        "\n",
        "This feature is easy to implement if you place the keyword arguments after a * argument or a single unnamed *. For example:"
      ]
    },
    {
      "cell_type": "code",
      "metadata": {
        "id": "NMrAAhmHUbMM"
      },
      "source": [
        "def recv(maxsize, *, block):\n",
        "  \"Recieves a message\"\n",
        "  pass\n",
        "\n",
        "recv(1024, block=True)"
      ],
      "execution_count": 44,
      "outputs": []
    },
    {
      "cell_type": "markdown",
      "metadata": {
        "id": "6tC8fHx2VIpB"
      },
      "source": [
        "This technique can also be used to specify keyword arguments for functions that accept a varying number of positional arguments."
      ]
    },
    {
      "cell_type": "code",
      "metadata": {
        "colab": {
          "base_uri": "https://localhost:8080/"
        },
        "id": "cNwkdvwMVMIm",
        "outputId": "3d27ba53-2e49-41dd-c6d8-4a4ef512b3aa"
      },
      "source": [
        "def minimum(*values, clip=None):\n",
        "  m = min(values)\n",
        "  if clip is not None:\n",
        "    m = clip if clip > m else m\n",
        "  return m\n",
        "\n",
        "print(minimum(1, 5, 2, -5, 10))\n",
        "print(minimum(1, 5, 2, -5, 10, clip=0))"
      ],
      "execution_count": 45,
      "outputs": [
        {
          "output_type": "stream",
          "text": [
            "-5\n",
            "0\n"
          ],
          "name": "stdout"
        }
      ]
    },
    {
      "cell_type": "markdown",
      "metadata": {
        "id": "unuq6vwzwUxi"
      },
      "source": [
        "### 3. Replacing Single Method Classes with Functions\n",
        "\n",
        "In many cases, single-method classes can be turned into functions using closures."
      ]
    },
    {
      "cell_type": "code",
      "metadata": {
        "id": "zvez00q4wh9W"
      },
      "source": [
        "from urllib.request import urlopen"
      ],
      "execution_count": 46,
      "outputs": []
    },
    {
      "cell_type": "code",
      "metadata": {
        "id": "xNlD0RPMwi5O"
      },
      "source": [
        "class UrlTemplate:\n",
        "  def __init__(self, template):\n",
        "    self.template = template \n",
        "  \n",
        "  def open(self, **kwargs):\n",
        "    return urlopen(self.template.format_map(kwargs))"
      ],
      "execution_count": 47,
      "outputs": []
    },
    {
      "cell_type": "markdown",
      "metadata": {
        "id": "BRtdfk8_xZ5Z"
      },
      "source": [
        "The class could be replaced with a much simpler function:\n"
      ]
    },
    {
      "cell_type": "code",
      "metadata": {
        "id": "tTsPjJvzxbol"
      },
      "source": [
        "def urltemplate(template): \n",
        "  def opener(**kwargs):\n",
        "    return urlopen(template.format_map(kwargs)) \n",
        "  return opener"
      ],
      "execution_count": 48,
      "outputs": []
    }
  ]
}