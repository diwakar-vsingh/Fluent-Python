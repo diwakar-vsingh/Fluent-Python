{
  "nbformat": 4,
  "nbformat_minor": 0,
  "metadata": {
    "colab": {
      "name": "03-dict-set.ipynb",
      "provenance": [],
      "collapsed_sections": [],
      "toc_visible": true,
      "authorship_tag": "ABX9TyNEAacx0Ph9+oNHeVjD8/Xs",
      "include_colab_link": true
    },
    "kernelspec": {
      "name": "python3",
      "display_name": "Python 3"
    }
  },
  "cells": [
    {
      "cell_type": "markdown",
      "metadata": {
        "id": "view-in-github",
        "colab_type": "text"
      },
      "source": [
        "<a href=\"https://colab.research.google.com/github/diwakar-vsingh/Fluent-Python/blob/version-0.0/03-dict-set/03_dict_set.ipynb\" target=\"_parent\"><img src=\"https://colab.research.google.com/assets/colab-badge.svg\" alt=\"Open In Colab\"/></a>"
      ]
    },
    {
      "cell_type": "markdown",
      "metadata": {
        "id": "CUMAS4701L8P"
      },
      "source": [
        "# Dictionaries and Sets\n",
        "\n",
        "Module namespaces, class and instance attributes, and function keyword arguments are some of the fundamental constructs where dictionaries are deployed. The built-in functions live in `__builtins__.__dict__`.\n",
        "\n",
        "\n",
        "Because of their crucial role, Python dicts are highly optimized. Hash tables are the engines behind Python’s high-performance dicts."
      ]
    },
    {
      "cell_type": "markdown",
      "metadata": {
        "id": "gQBzBM-iOvM7"
      },
      "source": [
        "## Hashable\n",
        "\n",
        "An object is hashable if it has a hash value which never changes during its lifetime (it needs a `__hash__()` method), and can be compared to other objects (it needs an `__eq__()` method). Hashable objects which compare equal must have the same hash value.\n",
        "\n",
        "The atomic immutable types (str, bytes, numeric types) are all hashable. A frozen set is always hashable, because its elements must be hashable by definition. A tuple is hashable only if all its items are hashable."
      ]
    },
    {
      "cell_type": "code",
      "metadata": {
        "colab": {
          "base_uri": "https://localhost:8080/"
        },
        "id": "s5k9EchpOizA",
        "outputId": "41da64d6-d4cb-4188-cc5b-d28bfb9384be"
      },
      "source": [
        "try:\n",
        "  t = (1, 2, (30, 40))\n",
        "  print(hash(t))\n",
        "except:\n",
        "  print(\"Unhashable\")"
      ],
      "execution_count": 1,
      "outputs": [
        {
          "output_type": "stream",
          "text": [
            "8027212646858338501\n"
          ],
          "name": "stdout"
        }
      ]
    },
    {
      "cell_type": "code",
      "metadata": {
        "colab": {
          "base_uri": "https://localhost:8080/"
        },
        "id": "2fYrKl-lQFtj",
        "outputId": "8245def7-fd09-474b-e2c9-da3330ba0e7c"
      },
      "source": [
        "try:\n",
        "  t = (1, 2, [30, 40])\n",
        "  print(hash(t))\n",
        "except:\n",
        "  print(\"Unhashable type: List\")"
      ],
      "execution_count": 2,
      "outputs": [
        {
          "output_type": "stream",
          "text": [
            "Unhashable type: List\n"
          ],
          "name": "stdout"
        }
      ]
    },
    {
      "cell_type": "code",
      "metadata": {
        "colab": {
          "base_uri": "https://localhost:8080/"
        },
        "id": "YszJkkfCQF5o",
        "outputId": "a310d2b5-32fb-4131-9f96-086dc92d1b0e"
      },
      "source": [
        "try:\n",
        "  t = (1, 2, frozenset([30, 40]))\n",
        "  print(hash(t))\n",
        "except:\n",
        "  print(\"Unhashable\")"
      ],
      "execution_count": 3,
      "outputs": [
        {
          "output_type": "stream",
          "text": [
            "985328935373711578\n"
          ],
          "name": "stdout"
        }
      ]
    },
    {
      "cell_type": "markdown",
      "metadata": {
        "id": "QVuPIMn1RCRc"
      },
      "source": [
        "## Mapping Types: dict\n",
        "\n",
        "A mapping object maps hashable values to arbitrary objects. Mappings are mutable objects. There is currently only one standard mapping type, the dictionary.\n",
        "\n",
        "A dictionary’s keys are almost arbitrary values. Values that are not hashable, that is, values containing lists, dictionaries or other mutable types (that are compared by value rather than by object identity) may not be used as keys. Numeric types used for keys obey the normal rules for numeric comparison: if two numbers compare equal (such as 1 and 1.0) then they can be used interchangeably to index the same dictionary entry. (Note however, that since computers store floating-point numbers as approximations it is usually unwise to use them as dictionary keys.)"
      ]
    },
    {
      "cell_type": "code",
      "metadata": {
        "colab": {
          "base_uri": "https://localhost:8080/"
        },
        "id": "Hm4wIDW2ReLQ",
        "outputId": "82cdb449-17c6-4c55-9cd9-a27a214534c8"
      },
      "source": [
        "a = dict(one=1, two=2, three=3)\n",
        "b = {\"one\": 1, \"two\": 2, \"three\": 3}\n",
        "c = dict(zip([\"one\", \"two\", \"three\"], [1, 2, 3]))\n",
        "d = dict([('two', 2), ('one', 1), ('three', 3)])\n",
        "e = dict({'three': 3, 'one': 1, 'two': 2})\n",
        "a == b == c == d == e"
      ],
      "execution_count": 4,
      "outputs": [
        {
          "output_type": "execute_result",
          "data": {
            "text/plain": [
              "True"
            ]
          },
          "metadata": {
            "tags": []
          },
          "execution_count": 4
        }
      ]
    },
    {
      "cell_type": "markdown",
      "metadata": {
        "id": "KS8TxZ0ASnIk"
      },
      "source": [
        "## dict Comprehensions\n",
        "\n",
        "A dictcomp builds a dict instance by producing `key:value` pair from any iterable."
      ]
    },
    {
      "cell_type": "code",
      "metadata": {
        "colab": {
          "base_uri": "https://localhost:8080/"
        },
        "id": "SltK0IU5TAa0",
        "outputId": "ed01cf57-e73c-458e-8e11-d63c02c0cb89"
      },
      "source": [
        "DIAL_CODES = [\n",
        "... (86, 'China'),\n",
        "... (91, 'India'),\n",
        "... (1, 'United States'),\n",
        "... (62, 'Indonesia'),\n",
        "... (55, 'Brazil'),\n",
        "... (92, 'Pakistan'),\n",
        "... (880, 'Bangladesh'),\n",
        "... (234, 'Nigeria'),\n",
        "... (7, 'Russia'),\n",
        "... (81, 'Japan'),\n",
        "... ]\n",
        "\n",
        "country_code = {country: code for code, country in DIAL_CODES}\n",
        "print(country_code)\n",
        "print({code: country.upper() for country, code in country_code.items() if code < 66})"
      ],
      "execution_count": 5,
      "outputs": [
        {
          "output_type": "stream",
          "text": [
            "{'China': 86, 'India': 91, 'United States': 1, 'Indonesia': 62, 'Brazil': 55, 'Pakistan': 92, 'Bangladesh': 880, 'Nigeria': 234, 'Russia': 7, 'Japan': 81}\n",
            "{1: 'UNITED STATES', 62: 'INDONESIA', 55: 'BRAZIL', 7: 'RUSSIA'}\n"
          ],
          "name": "stdout"
        }
      ]
    },
    {
      "cell_type": "markdown",
      "metadata": {
        "id": "KIukbatVTg5_"
      },
      "source": [
        "## Overview of Common Mapping Methods\n",
        "\n",
        "The basic API for mappings is quite rich. Table 3-1 shows the methods implemented by dict and two of its most useful variations: `defaultdict` and `OrderedDict`, both defined in the collections module.\n",
        "\n",
        "<img src=\"https://github.com/diwakar-vsingh/Fluent-Python/blob/version-0.0/03-dict-set/images/Table%201.png?raw=true\" width=\"700px\"/>\n"
      ]
    },
    {
      "cell_type": "markdown",
      "metadata": {
        "id": "d9o1JGylV1HV"
      },
      "source": [
        "## Handling Missing Keys with setdefault\n",
        "\n",
        "`setdefault` provides a significant speedup by avoiding redundant key lookups. `d.get(k, default)` is an alternative to `d[k]` whenever a default value is more convenient than handling KeyError. However, when updating the value found (if it is mutable), using either `__getitem__` or `get` is awkward and inefficient. "
      ]
    },
    {
      "cell_type": "markdown",
      "metadata": {
        "id": "GcO94bI6ZftT"
      },
      "source": [
        "## Mapping with Flexible Key Lookup\n",
        "\n",
        "\n",
        "Sometimes it is convenient to have mappings that return some made-up value when a missing key is searched. There are two main approaches to this: one is to use a `defaultdict` instead of a plain `dict`. The other is to subclass dict or any other mapping type and add a `__missing__` method."
      ]
    },
    {
      "cell_type": "markdown",
      "metadata": {
        "id": "Pv3-YMFMZzzG"
      },
      "source": [
        "### defaultdict: Another Take on Missing Keys\n",
        "\n",
        "When instantiating a `defaultdict`, a callable is provided that is used to produce a default value whenever `__getitem__` is passed a nonexistent key argument."
      ]
    },
    {
      "cell_type": "code",
      "metadata": {
        "id": "RSYS14m8TI9Z"
      },
      "source": [
        "from collections import defaultdict"
      ],
      "execution_count": 6,
      "outputs": []
    },
    {
      "cell_type": "code",
      "metadata": {
        "colab": {
          "base_uri": "https://localhost:8080/"
        },
        "id": "xuN7Zj1IcKNp",
        "outputId": "f0b88386-2caf-40f2-f4cb-034d5446c7cc"
      },
      "source": [
        "# A callable to return a default value when the key is not present\n",
        "def def_value():\n",
        "  return \"Not present\"\n",
        "\n",
        "# Defining the dict \n",
        "d = defaultdict(def_value) \n",
        "# d = defaultdict(lambda : \"Not present\") \n",
        "d[\"a\"] = 1\n",
        "d[\"b\"] = 2\n",
        "\n",
        "print(d[\"a\"]) \n",
        "print(d[\"b\"]) \n",
        "print(d[\"c\"]) "
      ],
      "execution_count": 7,
      "outputs": [
        {
          "output_type": "stream",
          "text": [
            "1\n",
            "2\n",
            "Not present\n"
          ],
          "name": "stdout"
        }
      ]
    },
    {
      "cell_type": "code",
      "metadata": {
        "colab": {
          "base_uri": "https://localhost:8080/"
        },
        "id": "U87gMzARdowD",
        "outputId": "3816ed14-632e-4c2e-bce1-e51159d349c6"
      },
      "source": [
        "# Defining a dict \n",
        "d = defaultdict(list)\n",
        "\n",
        "for i in range(5): \n",
        "  d[i].append(i) \n",
        "\n",
        "print(d[10])\n",
        "print(\"Dictionary with values as list:\") \n",
        "print(d) "
      ],
      "execution_count": 8,
      "outputs": [
        {
          "output_type": "stream",
          "text": [
            "[]\n",
            "Dictionary with values as list:\n",
            "defaultdict(<class 'list'>, {0: [0], 1: [1], 2: [2], 3: [3], 4: [4], 10: []})\n"
          ],
          "name": "stdout"
        }
      ]
    },
    {
      "cell_type": "code",
      "metadata": {
        "colab": {
          "base_uri": "https://localhost:8080/"
        },
        "id": "b1MWkMuMeB_O",
        "outputId": "716a6f50-1605-408c-c245-f4f862a2b3b8"
      },
      "source": [
        "# Defining the dict \n",
        "d = defaultdict(int) \n",
        "L = [1, 2, 3, 4, 2, 4, 1, 2] \n",
        "\n",
        "# Iterate through the list \n",
        "# for keeping the count \n",
        "for i in L: \n",
        "       \n",
        "    # The default value is 0 \n",
        "    # so there is no need to  \n",
        "    # enter the key first \n",
        "    d[i] += 1\n",
        "       \n",
        "print(d) "
      ],
      "execution_count": 9,
      "outputs": [
        {
          "output_type": "stream",
          "text": [
            "defaultdict(<class 'int'>, {1: 2, 2: 3, 3: 1, 4: 2})\n"
          ],
          "name": "stdout"
        }
      ]
    },
    {
      "cell_type": "markdown",
      "metadata": {
        "id": "I-uOKTqreP8R"
      },
      "source": [
        "### The `__missing__` Method\n",
        "\n",
        "Underlying the way mappings deal with missing keys is the aptly named `__missing__` method. This method is not defined in the base dict class, but dict is aware of it: if you subclass dict and provide a `__missing__` method, the standard `dict.__getitem__` will call it whenever a key is not found, instead of raising KeyError."
      ]
    },
    {
      "cell_type": "markdown",
      "metadata": {
        "id": "UG96DSltf4SW"
      },
      "source": [
        "## Variations of dict\n",
        "\n",
        "Various other mapping types included in the collections module of the standard library, besides defaultdict are as follows:\n",
        "\n",
        "1. ***collections.OrderedDict***:\n",
        "Maintains keys in insertion order, allowing iteration over items in a predictable order. The popitem method of an OrderedDict pops the first item by default, but if called as my_odict.popitem(last=True), it pops the last item added.\n",
        "\n",
        "2. ***collections.ChainMap***:\n",
        "Holds a list of mappings that can be searched as one. The lookup is performed on each mapping in order, and succeeds if the key is found in any of them. This is useful to interpreters for languages with nested scopes, where each mapping represents a scope context.\n",
        "\n",
        "3. ***collections.Counter***: \n",
        "A mapping that holds an integer count for each key. Updating an existing key adds to its count. This can be used to count instances of hashable objects (the keys) or as a multiset—a set that can hold several occurrences of each element. Counter implements the + and - operators to combine tallies, and other useful methods such as most_common([n]), which returns an ordered list of tuples with the n most com‐ mon items and their counts\n",
        "\n",
        "4. ***collections.UserDict***:\n",
        "A pure Python implementation of a mapping that works like a standard dict.\n",
        "\n",
        "\n",
        "\n"
      ]
    },
    {
      "cell_type": "code",
      "metadata": {
        "id": "B9ts1JdYfMvD"
      },
      "source": [
        "from collections import Counter"
      ],
      "execution_count": 10,
      "outputs": []
    },
    {
      "cell_type": "code",
      "metadata": {
        "colab": {
          "base_uri": "https://localhost:8080/"
        },
        "id": "S6znvZPUhaz7",
        "outputId": "923e7a65-31e9-482e-c2e8-8578d8008b49"
      },
      "source": [
        "ct = Counter('abracadabra')\n",
        "print(ct)\n",
        "ct.update('aaaaazzz')\n",
        "print(ct)"
      ],
      "execution_count": 11,
      "outputs": [
        {
          "output_type": "stream",
          "text": [
            "Counter({'a': 5, 'b': 2, 'r': 2, 'c': 1, 'd': 1})\n",
            "Counter({'a': 10, 'z': 3, 'b': 2, 'r': 2, 'c': 1, 'd': 1})\n"
          ],
          "name": "stdout"
        }
      ]
    },
    {
      "cell_type": "code",
      "metadata": {
        "colab": {
          "base_uri": "https://localhost:8080/"
        },
        "id": "Rm1ycFEuna-U",
        "outputId": "c01cbfe1-207d-46d1-ef25-e5e2e217bab9"
      },
      "source": [
        "print(sorted(ct.elements()))"
      ],
      "execution_count": 12,
      "outputs": [
        {
          "output_type": "stream",
          "text": [
            "['a', 'a', 'a', 'a', 'a', 'a', 'a', 'a', 'a', 'a', 'b', 'b', 'c', 'd', 'r', 'r', 'z', 'z', 'z']\n"
          ],
          "name": "stdout"
        }
      ]
    },
    {
      "cell_type": "code",
      "metadata": {
        "colab": {
          "base_uri": "https://localhost:8080/"
        },
        "id": "OJkbX2-FhkcT",
        "outputId": "39025ef1-ea84-4fab-cd97-429ad58d3fa5"
      },
      "source": [
        "# Total of all counts\n",
        "print(sum(ct.values()))\n",
        "\n",
        "# list unique elements\n",
        "print(list(ct))\n",
        "\n",
        "# convert to a set\n",
        "print(set(ct))\n",
        "\n",
        "# convert to a regular dictionary\n",
        "print(dict(ct))\n",
        "\n",
        "# convert to a list of (elem, cnt) pairs\n",
        "print(c.items())\n",
        "\n",
        "# convert from a list of (elem, cnt) pairs\n",
        "list_of_pairs = c.items()\n",
        "print(Counter(dict(list_of_pairs)))\n",
        "\n",
        "# n least common elements\n",
        "print(ct.most_common())\n",
        "n = 2\n",
        "print(ct.most_common()[:-n-1:-1])"
      ],
      "execution_count": 13,
      "outputs": [
        {
          "output_type": "stream",
          "text": [
            "19\n",
            "['a', 'b', 'r', 'c', 'd', 'z']\n",
            "{'b', 'z', 'c', 'd', 'a', 'r'}\n",
            "{'a': 10, 'b': 2, 'r': 2, 'c': 1, 'd': 1, 'z': 3}\n",
            "dict_items([('one', 1), ('two', 2), ('three', 3)])\n",
            "Counter({'three': 3, 'two': 2, 'one': 1})\n",
            "[('a', 10), ('z', 3), ('b', 2), ('r', 2), ('c', 1), ('d', 1)]\n",
            "[('d', 1), ('c', 1)]\n"
          ],
          "name": "stdout"
        }
      ]
    },
    {
      "cell_type": "code",
      "metadata": {
        "colab": {
          "base_uri": "https://localhost:8080/"
        },
        "id": "8ORtCIlnmuoS",
        "outputId": "705ed1c6-0503-4fc7-9b50-794f6d589937"
      },
      "source": [
        "c = Counter(a=3, b=1)\n",
        "d = Counter(a=1, b=2)\n",
        "print(c + d) # add two counters together:  c[x] + d[x]\n",
        "print(c - d) # subtract (keeping only positive counts)\n",
        "print(c & d) # intersection:  min(c[x], d[x]) \n",
        "print(c | d) # union:  max(c[x], d[x])"
      ],
      "execution_count": 14,
      "outputs": [
        {
          "output_type": "stream",
          "text": [
            "Counter({'a': 4, 'b': 3})\n",
            "Counter({'a': 2})\n",
            "Counter({'a': 1, 'b': 1})\n",
            "Counter({'a': 3, 'b': 2})\n"
          ],
          "name": "stdout"
        }
      ]
    },
    {
      "cell_type": "code",
      "metadata": {
        "colab": {
          "base_uri": "https://localhost:8080/"
        },
        "id": "xgnUaye1nRBx",
        "outputId": "64d8b829-5b47-42de-d8f2-d9d21dce3fde"
      },
      "source": [
        "c = Counter(a=2, b=-4, c=0)\n",
        "print(+c) # remove zero and negative counts\n",
        "print(-c) # remove zero and positive counts"
      ],
      "execution_count": 15,
      "outputs": [
        {
          "output_type": "stream",
          "text": [
            "Counter({'a': 2})\n",
            "Counter({'b': 4})\n"
          ],
          "name": "stdout"
        }
      ]
    },
    {
      "cell_type": "markdown",
      "metadata": {
        "id": "PQPBeUi-pW28"
      },
      "source": [
        "## Set Theory\n",
        "\n",
        "A set is a collection of unique objects. A basic use case is removing duplication.\n",
        "\n",
        "Set elements must be hashable. The set type is not hashable, but frozenset is, so you can have frozenset elements inside a set."
      ]
    },
    {
      "cell_type": "code",
      "metadata": {
        "colab": {
          "base_uri": "https://localhost:8080/"
        },
        "id": "Gk7bg6DHplO4",
        "outputId": "01bc0916-a81b-4513-b9e6-60ffe20d6ecb"
      },
      "source": [
        "l = ['spam', 'spam', 'eggs', 'spam']\n",
        "print(set(l))\n",
        "print(list(set(l)))"
      ],
      "execution_count": 16,
      "outputs": [
        {
          "output_type": "stream",
          "text": [
            "{'spam', 'eggs'}\n",
            "['spam', 'eggs']\n"
          ],
          "name": "stdout"
        }
      ]
    },
    {
      "cell_type": "markdown",
      "metadata": {
        "id": "HJubhe-np_8M"
      },
      "source": [
        "In addition to guaranteeing uniqueness, the set types implement the essential set oper‐ ations as infix operators, so, given two sets a and b, a | b returns their union, a & b computes the intersection, and a - b the difference. Smart use of set operations can reduce both the line count and the runtime of Python programs, at the same time making code easier to read and reason about—by removing loops and lots of conditional logic.\n",
        "\n",
        "**Count occurrences of needles in a haystack, both of type set**\n",
        "count = len(needles & haystack)"
      ]
    },
    {
      "cell_type": "markdown",
      "metadata": {
        "id": "roQBDgRmq7RB"
      },
      "source": [
        "### set Literals\n",
        "\n",
        "The syntax of set literals—{1}, {1, 2}, etc.—looks exactly like the math notation, with one important exception: there’s no literal notation for the empty set, so we must remember to write `set()`."
      ]
    },
    {
      "cell_type": "code",
      "metadata": {
        "colab": {
          "base_uri": "https://localhost:8080/"
        },
        "id": "5uUmNGDvqAS6",
        "outputId": "a81fc562-2834-4dee-a069-9da240ca405b"
      },
      "source": [
        "s = {1}\n",
        "print(type(s))\n",
        "print(s)\n",
        "print(s.pop())\n",
        "print(s)\n",
        "ss = set()\n",
        "print(type(ss))\n",
        "ss = {}\n",
        "print(type(ss))"
      ],
      "execution_count": 17,
      "outputs": [
        {
          "output_type": "stream",
          "text": [
            "<class 'set'>\n",
            "{1}\n",
            "1\n",
            "set()\n",
            "<class 'set'>\n",
            "<class 'dict'>\n"
          ],
          "name": "stdout"
        }
      ]
    },
    {
      "cell_type": "markdown",
      "metadata": {
        "id": "CVzX15gPrq6z"
      },
      "source": [
        "Literal set syntax like `{1, 2, 3}` is both faster and more readable than calling the constructor (e.g., `set([1, 2, 3])`). The latter form is slower because, to evaluate it, Python has to look up the set name to fetch the constructor, then build a list, and finally pass it to the constructor."
      ]
    },
    {
      "cell_type": "markdown",
      "metadata": {
        "id": "WHXfSXCxr70g"
      },
      "source": [
        "### frozenset Literals\n",
        "\n",
        "There is no special syntax to represent frozenset literals—they must be created by calling the constructor."
      ]
    },
    {
      "cell_type": "code",
      "metadata": {
        "colab": {
          "base_uri": "https://localhost:8080/"
        },
        "id": "SuRs4pwZrWtb",
        "outputId": "186f8f0d-b277-4323-bc6d-e606acbb1d93"
      },
      "source": [
        "frozenset(range(10))"
      ],
      "execution_count": 18,
      "outputs": [
        {
          "output_type": "execute_result",
          "data": {
            "text/plain": [
              "frozenset({0, 1, 2, 3, 4, 5, 6, 7, 8, 9})"
            ]
          },
          "metadata": {
            "tags": []
          },
          "execution_count": 18
        }
      ]
    },
    {
      "cell_type": "markdown",
      "metadata": {
        "id": "m-SgoVvqsGGL"
      },
      "source": [
        "## Hash Tables in Dictionaries\n",
        "\n",
        "A hash table is a sparse array (i.e., an array that always has empty cells). The cells in a hash table are often called “buckets.” In a dict hash table, there is a bucket for each item, and it contains two fields: a reference to the key and a reference to the value of the item. Because all buckets have the same size, access to an individual bucket is done by offset.\n",
        "\n",
        "Python tries to keep at least 1/3 of the buckets empty; if the hash table becomes too crowded, it is copied to a new location with room for more buckets.\n",
        "\n",
        "To put an item in a hash table, the first step is to calculate the hash value of the item key, which is done with the hash() built-in function."
      ]
    },
    {
      "cell_type": "markdown",
      "metadata": {
        "id": "UwBITickhYIc"
      },
      "source": [
        "### Hashes and equality\n",
        "\n",
        "If two objects compare equal, their hash values must also be equal, otherwise the hash table algorithm does not work. For example, because 1 == 1.0 is true, hash(1) == hash(1.0) must also be true, even though the internal representation of an int and a float are very different.\n",
        "\n",
        "Also, to be effective as hash table indexes, hash values should scatter around the index space as much as possible. This means that, ideally, objects that are similar but not equal should have hash values that differ widely."
      ]
    },
    {
      "cell_type": "markdown",
      "metadata": {
        "id": "lv5Q7frDiJgI"
      },
      "source": [
        "### The hash table algorithm\n",
        "\n",
        "<img src=\"https://github.com/diwakar-vsingh/Fluent-Python/blob/version-0.0/03-dict-set/images/Table%202.png?raw=true\" width=\"700px\"/>\n",
        "\n",
        "\n",
        "The process to insert or update an item is the same, except that when an empty bucket is located, the new item is put there, and when a bucket with a matching key is found, the value in that bucket is overwritten with the new value.\n",
        "\n",
        "Additionally, when inserting items, Python may determine that the hash table is too crowded and rebuild it to a new location with more room. As the hash table grows, so does the number of hash bits used as bucket offsets, and this keeps the rate of collisions low.\n"
      ]
    },
    {
      "cell_type": "markdown",
      "metadata": {
        "id": "NyHj3cQYjJWo"
      },
      "source": [
        "## Practical Consequences of How Dict Works\n",
        "\n",
        "1. **dicts have significant memory overhead:**\n",
        "Because a dict uses a hash table internally, and hash tables must be sparse to work, they are not space efficient. For example, if you are handling a large quantity of records, it makes sense to store them in a list of tuples or named tuples instead of using a list of dictionaries in JSON style, with one dict per record.\n",
        "\n",
        "2. **Key search is very fast:**\n",
        "The dict implementation is an example of trading space for time: dictionaries have significant memory overhead, but they provide fast access regardless of the size of the dictionary—as long as it fits in memory. \n",
        "\n",
        "3. **Key ordering depends on insertion order**\n",
        "When a hash collision happens, the second key ends up in a position that it would not normally occupy if it had been inserted first. So, a dict built as `dict([(key1, value1), (key2, value2)])` compares equal to `dict([(key2, value2), (key1, value1)])`, but their key ordering may not be the same if the hashes of key1 and key2 collide."
      ]
    },
    {
      "cell_type": "code",
      "metadata": {
        "id": "nFQU-K0psLZe",
        "colab": {
          "base_uri": "https://localhost:8080/"
        },
        "outputId": "067c09db-9c24-4fcc-ddc8-951441284910"
      },
      "source": [
        "DIAL_CODES = [\n",
        "        (86, 'China'),\n",
        "        (91, 'India'),\n",
        "        (1, 'United States'),\n",
        "        (62, 'Indonesia'),\n",
        "        (55, 'Brazil'),\n",
        "        (92, 'Pakistan'),\n",
        "        (880, 'Bangladesh'),\n",
        "        (234, 'Nigeria'),\n",
        "        (7, 'Russia'),\n",
        "        (81, 'Japan')]\n",
        "\n",
        "d1 = dict(DIAL_CODES)  # <1>\n",
        "print('d1:', d1.keys())\n",
        "d2 = dict(sorted(DIAL_CODES))  # <2>\n",
        "print('d2:', d2.keys())\n",
        "d3 = dict(sorted(DIAL_CODES, key=lambda x:x[1]))  # <3>\n",
        "print('d3:', d3.keys())\n",
        "assert d1 == d2 and d2 == d3  # <4>"
      ],
      "execution_count": 19,
      "outputs": [
        {
          "output_type": "stream",
          "text": [
            "d1: dict_keys([86, 91, 1, 62, 55, 92, 880, 234, 7, 81])\n",
            "d2: dict_keys([1, 7, 55, 62, 81, 86, 91, 92, 234, 880])\n",
            "d3: dict_keys([880, 55, 86, 91, 62, 81, 234, 92, 7, 1])\n"
          ],
          "name": "stdout"
        }
      ]
    },
    {
      "cell_type": "markdown",
      "metadata": {
        "id": "edgzkugHkgcT"
      },
      "source": [
        "4. **Adding items to a dict may change the order of existing keys**:\n",
        "Whenever you add a new item to a dict, the Python interpreter may decide that the hash table of that dictionary needs to grow. This entails building a new, bigger hash table, and adding all current items to the new table. During this process, new (but different) hash collisions may happen, with the result that the keys are likely to be or‐ dered differently in the new hash table.\n",
        "\n",
        " If you are iterating over the dictionary keys and changing them at the same time, your loop may not scan all the items as expected —not even the items that were already in the dictionary before you added to it.\n",
        "\n",
        "This is why modifying the contents of a dict while iterating through it is a bad idea. If you need to scan and add items to a dictionary, do it in two steps: read the dict from start to finish and collect the needed additions in a second dict. Then update the first one with it."
      ]
    },
    {
      "cell_type": "markdown",
      "metadata": {
        "id": "aHWwMmZSlI6K"
      },
      "source": [
        "## How Sets Work—Practical Consequences\n",
        "\n",
        "The set and frozenset types are also implemented with a hash table, except that each bucket holds only a reference to the element (as if it were a key in a dict, but without a value to go with it).\n",
        "\n",
        "1. Set elements must be hashable objects.\n",
        "2. Sets have a significant memory overhead.\n",
        "3. Membership testing is very efficient.\n",
        "4. Element ordering depends on insertion order.\n",
        "5. Adding elements to a set may change the order of other elements."
      ]
    }
  ]
}