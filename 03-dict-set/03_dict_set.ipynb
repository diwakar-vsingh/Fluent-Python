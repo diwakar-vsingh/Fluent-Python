{
  "nbformat": 4,
  "nbformat_minor": 0,
  "metadata": {
    "colab": {
      "name": "03-dict-set.ipynb",
      "provenance": [],
      "collapsed_sections": [],
      "toc_visible": true,
      "authorship_tag": "ABX9TyN5hTD2RsixhekVEVT7dh6+",
      "include_colab_link": true
    },
    "kernelspec": {
      "name": "python3",
      "display_name": "Python 3"
    }
  },
  "cells": [
    {
      "cell_type": "markdown",
      "metadata": {
        "id": "view-in-github",
        "colab_type": "text"
      },
      "source": [
        "<a href=\"https://colab.research.google.com/github/diwakar-vsingh/Fluent-Python/blob/version-0.0/03-dict-set/03_dict_set.ipynb\" target=\"_parent\"><img src=\"https://colab.research.google.com/assets/colab-badge.svg\" alt=\"Open In Colab\"/></a>"
      ]
    },
    {
      "cell_type": "markdown",
      "metadata": {
        "id": "CUMAS4701L8P"
      },
      "source": [
        "# Dictionaries and Sets\n",
        "\n",
        "Module namespaces, class and instance attributes, and function keyword arguments are some of the fundamental constructs where dictionaries are deployed. The built-in functions live in `__builtins__.__dict__`.\n",
        "\n",
        "\n",
        "Because of their crucial role, Python dicts are highly optimized. Hash tables are the engines behind Python’s high-performance dicts."
      ]
    },
    {
      "cell_type": "markdown",
      "metadata": {
        "id": "gQBzBM-iOvM7"
      },
      "source": [
        "## Hashable\n",
        "\n",
        "An object is hashable if it has a hash value which never changes during its lifetime (it needs a `__hash__()` method), and can be compared to other objects (it needs an `__eq__()` method). Hashable objects which compare equal must have the same hash value.\n",
        "\n",
        "The atomic immutable types (str, bytes, numeric types) are all hashable. A frozen set is always hashable, because its elements must be hashable by definition. A tuple is hashable only if all its items are hashable."
      ]
    },
    {
      "cell_type": "code",
      "metadata": {
        "colab": {
          "base_uri": "https://localhost:8080/"
        },
        "id": "s5k9EchpOizA",
        "outputId": "cb994b0f-a745-4ff9-c11a-5b60bdd9480e"
      },
      "source": [
        "try:\n",
        "  t = (1, 2, (30, 40))\n",
        "  print(hash(t))\n",
        "except:\n",
        "  print(\"Unhashable\")"
      ],
      "execution_count": 1,
      "outputs": [
        {
          "output_type": "stream",
          "text": [
            "8027212646858338501\n"
          ],
          "name": "stdout"
        }
      ]
    },
    {
      "cell_type": "code",
      "metadata": {
        "colab": {
          "base_uri": "https://localhost:8080/"
        },
        "id": "2fYrKl-lQFtj",
        "outputId": "ecc97a05-8952-4057-e3d4-77881eb392cf"
      },
      "source": [
        "try:\n",
        "  t = (1, 2, [30, 40])\n",
        "  print(hash(t))\n",
        "except:\n",
        "  print(\"Unhashable type: List\")"
      ],
      "execution_count": 2,
      "outputs": [
        {
          "output_type": "stream",
          "text": [
            "Unhashable type: List\n"
          ],
          "name": "stdout"
        }
      ]
    },
    {
      "cell_type": "code",
      "metadata": {
        "colab": {
          "base_uri": "https://localhost:8080/"
        },
        "id": "YszJkkfCQF5o",
        "outputId": "114c1e67-5cd8-4f2c-ef26-a54cd0ca2487"
      },
      "source": [
        "try:\n",
        "  t = (1, 2, frozenset([30, 40]))\n",
        "  print(hash(t))\n",
        "except:\n",
        "  print(\"Unhashable\")"
      ],
      "execution_count": 3,
      "outputs": [
        {
          "output_type": "stream",
          "text": [
            "985328935373711578\n"
          ],
          "name": "stdout"
        }
      ]
    },
    {
      "cell_type": "markdown",
      "metadata": {
        "id": "QVuPIMn1RCRc"
      },
      "source": [
        "## Mapping Types: dict\n",
        "\n",
        "A mapping object maps hashable values to arbitrary objects. Mappings are mutable objects. There is currently only one standard mapping type, the dictionary.\n",
        "\n",
        "A dictionary’s keys are almost arbitrary values. Values that are not hashable, that is, values containing lists, dictionaries or other mutable types (that are compared by value rather than by object identity) may not be used as keys. Numeric types used for keys obey the normal rules for numeric comparison: if two numbers compare equal (such as 1 and 1.0) then they can be used interchangeably to index the same dictionary entry. (Note however, that since computers store floating-point numbers as approximations it is usually unwise to use them as dictionary keys.)"
      ]
    },
    {
      "cell_type": "code",
      "metadata": {
        "colab": {
          "base_uri": "https://localhost:8080/"
        },
        "id": "Hm4wIDW2ReLQ",
        "outputId": "18d721e7-ec37-4e1d-efd1-eeddc50b89a7"
      },
      "source": [
        "a = dict(one=1, two=2, three=3)\n",
        "b = {\"one\": 1, \"two\": 2, \"three\": 3}\n",
        "c = dict(zip([\"one\", \"two\", \"three\"], [1, 2, 3]))\n",
        "d = dict([('two', 2), ('one', 1), ('three', 3)])\n",
        "e = dict({'three': 3, 'one': 1, 'two': 2})\n",
        "a == b == c == d == e"
      ],
      "execution_count": 4,
      "outputs": [
        {
          "output_type": "execute_result",
          "data": {
            "text/plain": [
              "True"
            ]
          },
          "metadata": {
            "tags": []
          },
          "execution_count": 4
        }
      ]
    },
    {
      "cell_type": "markdown",
      "metadata": {
        "id": "KS8TxZ0ASnIk"
      },
      "source": [
        "## dict Comprehensions\n",
        "\n",
        "A dictcomp builds a dict instance by producing `key:value` pair from any iterable."
      ]
    },
    {
      "cell_type": "code",
      "metadata": {
        "colab": {
          "base_uri": "https://localhost:8080/"
        },
        "id": "SltK0IU5TAa0",
        "outputId": "4577a556-97ee-48e6-d722-ed7f8a1bc45c"
      },
      "source": [
        "DIAL_CODES = [\n",
        "... (86, 'China'),\n",
        "... (91, 'India'),\n",
        "... (1, 'United States'),\n",
        "... (62, 'Indonesia'),\n",
        "... (55, 'Brazil'),\n",
        "... (92, 'Pakistan'),\n",
        "... (880, 'Bangladesh'),\n",
        "... (234, 'Nigeria'),\n",
        "... (7, 'Russia'),\n",
        "... (81, 'Japan'),\n",
        "... ]\n",
        "\n",
        "country_code = {country: code for code, country in DIAL_CODES}\n",
        "print(country_code)\n",
        "print({code: country.upper() for country, code in country_code.items() if code < 66})"
      ],
      "execution_count": 5,
      "outputs": [
        {
          "output_type": "stream",
          "text": [
            "{'China': 86, 'India': 91, 'United States': 1, 'Indonesia': 62, 'Brazil': 55, 'Pakistan': 92, 'Bangladesh': 880, 'Nigeria': 234, 'Russia': 7, 'Japan': 81}\n",
            "{1: 'UNITED STATES', 62: 'INDONESIA', 55: 'BRAZIL', 7: 'RUSSIA'}\n"
          ],
          "name": "stdout"
        }
      ]
    },
    {
      "cell_type": "markdown",
      "metadata": {
        "id": "KIukbatVTg5_"
      },
      "source": [
        "## Overview of Common Mapping Methods\n",
        "\n",
        "The basic API for mappings is quite rich. Table 3-1 shows the methods implemented by dict and two of its most useful variations: `defaultdict` and `OrderedDict`, both defined in the collections module.\n",
        "\n",
        "<img src=\"https://github.com/diwakar-vsingh/Fluent-Python/blob/version-0.0/03-dict-set/images/Table%201.png?raw=true\" width=\"700px\"/>\n"
      ]
    },
    {
      "cell_type": "markdown",
      "metadata": {
        "id": "d9o1JGylV1HV"
      },
      "source": [
        "## Handling Missing Keys with setdefault\n",
        "\n",
        "`setdefault` provides a significant speedup by avoiding redundant key lookups. `d.get(k, default)` is an alternative to `d[k]` whenever a default value is more convenient than handling KeyError. However, when updating the value found (if it is mutable), using either `__getitem__` or `get` is awkward and inefficient. "
      ]
    },
    {
      "cell_type": "markdown",
      "metadata": {
        "id": "GcO94bI6ZftT"
      },
      "source": [
        "## Mapping with Flexible Key Lookup\n",
        "\n",
        "\n",
        "Sometimes it is convenient to have mappings that return some made-up value when a missing key is searched. There are two main approaches to this: one is to use a `defaultdict` instead of a plain `dict`. The other is to subclass dict or any other mapping type and add a `__missing__` method."
      ]
    },
    {
      "cell_type": "markdown",
      "metadata": {
        "id": "Pv3-YMFMZzzG"
      },
      "source": [
        "### defaultdict: Another Take on Missing Keys\n",
        "\n",
        "When instantiating a `defaultdict`, a callable is provided that is used to produce a default value whenever `__getitem__` is passed a nonexistent key argument."
      ]
    },
    {
      "cell_type": "code",
      "metadata": {
        "id": "RSYS14m8TI9Z"
      },
      "source": [
        "from collections import defaultdict"
      ],
      "execution_count": 6,
      "outputs": []
    },
    {
      "cell_type": "code",
      "metadata": {
        "colab": {
          "base_uri": "https://localhost:8080/"
        },
        "id": "xuN7Zj1IcKNp",
        "outputId": "086b542f-a5be-4e8e-f62a-f12dfb3031d4"
      },
      "source": [
        "# A callable to return a default value when the key is not present\n",
        "def def_value():\n",
        "  return \"Not present\"\n",
        "\n",
        "# Defining the dict \n",
        "d = defaultdict(def_value) \n",
        "# d = defaultdict(lambda : \"Not present\") \n",
        "d[\"a\"] = 1\n",
        "d[\"b\"] = 2\n",
        "\n",
        "print(d[\"a\"]) \n",
        "print(d[\"b\"]) \n",
        "print(d[\"c\"]) "
      ],
      "execution_count": 7,
      "outputs": [
        {
          "output_type": "stream",
          "text": [
            "1\n",
            "2\n",
            "Not present\n"
          ],
          "name": "stdout"
        }
      ]
    },
    {
      "cell_type": "code",
      "metadata": {
        "colab": {
          "base_uri": "https://localhost:8080/"
        },
        "id": "U87gMzARdowD",
        "outputId": "41368b0d-a763-4bc6-b63c-2f5903e430ab"
      },
      "source": [
        "# Defining a dict \n",
        "d = defaultdict(list)\n",
        "\n",
        "for i in range(5): \n",
        "  d[i].append(i) \n",
        "\n",
        "print(d[10])\n",
        "print(\"Dictionary with values as list:\") \n",
        "print(d) "
      ],
      "execution_count": 8,
      "outputs": [
        {
          "output_type": "stream",
          "text": [
            "[]\n",
            "Dictionary with values as list:\n",
            "defaultdict(<class 'list'>, {0: [0], 1: [1], 2: [2], 3: [3], 4: [4], 10: []})\n"
          ],
          "name": "stdout"
        }
      ]
    },
    {
      "cell_type": "code",
      "metadata": {
        "colab": {
          "base_uri": "https://localhost:8080/"
        },
        "id": "b1MWkMuMeB_O",
        "outputId": "26763e1f-d398-4101-82fb-bfe88f02b939"
      },
      "source": [
        "# Defining the dict \n",
        "d = defaultdict(int) \n",
        "L = [1, 2, 3, 4, 2, 4, 1, 2] \n",
        "\n",
        "# Iterate through the list \n",
        "# for keeping the count \n",
        "for i in L: \n",
        "       \n",
        "    # The default value is 0 \n",
        "    # so there is no need to  \n",
        "    # enter the key first \n",
        "    d[i] += 1\n",
        "       \n",
        "print(d)"
      ],
      "execution_count": 9,
      "outputs": [
        {
          "output_type": "stream",
          "text": [
            "defaultdict(<class 'int'>, {1: 2, 2: 3, 3: 1, 4: 2})\n"
          ],
          "name": "stdout"
        }
      ]
    },
    {
      "cell_type": "markdown",
      "metadata": {
        "id": "I-uOKTqreP8R"
      },
      "source": [
        "### The `__missing__` Method\n",
        "\n",
        "Underlying the way mappings deal with missing keys is the aptly named `__missing__` method. This method is not defined in the base dict class, but dict is aware of it: if you subclass dict and provide a `__missing__` method, the standard `dict.__getitem__` will call it whenever a key is not found, instead of raising KeyError."
      ]
    },
    {
      "cell_type": "markdown",
      "metadata": {
        "id": "UG96DSltf4SW"
      },
      "source": [
        "## Variations of dict\n",
        "\n",
        "Various other mapping types included in the collections module of the standard library, besides defaultdict are as follows:\n"
      ]
    },
    {
      "cell_type": "markdown",
      "metadata": {
        "id": "j0wuw5c5qeZB"
      },
      "source": [
        "### ***collections.OrderedDict***\n",
        "\n",
        "Maintains keys in insertion order, allowing iteration over items in a predictable order. The popitem method of an OrderedDict pops the first item by default, but if called as my_odict.popitem(last=True), it pops the last item added.\n",
        "\n",
        "An OrderedDict internally maintains a doubly linked list that orders the keys according to insertion order.\n",
        "\n",
        "Be aware that the size of an OrderedDict is more than twice as large as a normal dictionary due to the extra linked list that’s created.\n"
      ]
    },
    {
      "cell_type": "code",
      "metadata": {
        "id": "N2NGWnKfrHR9"
      },
      "source": [
        "from collections import OrderedDict"
      ],
      "execution_count": 20,
      "outputs": []
    },
    {
      "cell_type": "code",
      "metadata": {
        "colab": {
          "base_uri": "https://localhost:8080/"
        },
        "id": "VFfdmivwrS0B",
        "outputId": "db15a6ba-d43b-4bf9-82e3-3ddb52af8993"
      },
      "source": [
        "d = OrderedDict()\n",
        "d[\"foo\"] = 1\n",
        "d[\"bar\"] = 2\n",
        "d[\"spam\"] = 3\n",
        "d[\"geek\"] = 4\n",
        "\n",
        "d.items()"
      ],
      "execution_count": 22,
      "outputs": [
        {
          "output_type": "execute_result",
          "data": {
            "text/plain": [
              "odict_items([('foo', 1), ('bar', 2), ('spam', 3), ('geek', 4)])"
            ]
          },
          "metadata": {
            "tags": []
          },
          "execution_count": 22
        }
      ]
    },
    {
      "cell_type": "markdown",
      "metadata": {
        "id": "aLIyN_3DqxWC"
      },
      "source": [
        "### ***collections.ChainMap***:\n",
        "\n",
        "\n",
        "A ChainMap takes multiple mappings and makes them logically appear as one. However, the mappings are not literally merged together. Instead, a ChainMap simply keeps a list of the underlying mappings and redefines common dictionary operations to scan the list."
      ]
    },
    {
      "cell_type": "code",
      "metadata": {
        "id": "qZV4nELiB8UA"
      },
      "source": [
        "# Suppose we have two dictionaries\n",
        "a = {'x': 1, 'z': 3 }\n",
        "b = {'y': 2, 'z': 4 }"
      ],
      "execution_count": 57,
      "outputs": []
    },
    {
      "cell_type": "markdown",
      "metadata": {
        "id": "upbWmD6pCGF7"
      },
      "source": [
        "Now suppose you want to perform lookups where you have to check both dictionaries (e.g., first checking in a and then in b if not found). An easy way to do this is to use the ChainMap class from the collections module"
      ]
    },
    {
      "cell_type": "code",
      "metadata": {
        "id": "4P5ub0n7CGp7"
      },
      "source": [
        "from collections import ChainMap"
      ],
      "execution_count": 51,
      "outputs": []
    },
    {
      "cell_type": "code",
      "metadata": {
        "colab": {
          "base_uri": "https://localhost:8080/"
        },
        "id": "6tuqGET9CKFI",
        "outputId": "e1cf0ce9-43e7-4dbf-9388-2d3db1b1a631"
      },
      "source": [
        "c = ChainMap(a, b)\n",
        "print(c['x']) \n",
        "print(c['y']) \n",
        "print(c['z'])"
      ],
      "execution_count": 58,
      "outputs": [
        {
          "output_type": "stream",
          "text": [
            "1\n",
            "2\n",
            "3\n"
          ],
          "name": "stdout"
        }
      ]
    },
    {
      "cell_type": "markdown",
      "metadata": {
        "id": "xgtlzYnVC3Z5"
      },
      "source": [
        "If there are duplicate keys, the values from the first mapping get used. Thus, the entry `c['z']` in the example would always refer to the value in dictionary a, not the value in dictionary b."
      ]
    },
    {
      "cell_type": "code",
      "metadata": {
        "colab": {
          "base_uri": "https://localhost:8080/"
        },
        "id": "iaiFpjPGCid2",
        "outputId": "416612b2-ae7a-4a89-d20e-7e37ad0dc2c6"
      },
      "source": [
        "print(len(c))\n",
        "print(list(c.keys()))\n",
        "print(list(c.values()))"
      ],
      "execution_count": 54,
      "outputs": [
        {
          "output_type": "stream",
          "text": [
            "3\n",
            "['z', 'x', 'y']\n",
            "[3, 1, 2]\n"
          ],
          "name": "stdout"
        }
      ]
    },
    {
      "cell_type": "markdown",
      "metadata": {
        "id": "FhpGa_CoC_P3"
      },
      "source": [
        "Operations that mutate the mapping always affect the first mapping listed."
      ]
    },
    {
      "cell_type": "code",
      "metadata": {
        "colab": {
          "base_uri": "https://localhost:8080/"
        },
        "id": "CqT6Z9BmCnJh",
        "outputId": "b85d78c7-733c-4a53-e3fa-7863e76d0b3a"
      },
      "source": [
        "print(\"Before\", a)\n",
        "c[\"z\"] = 10\n",
        "c[\"w\"] = 40\n",
        "del c[\"x\"]\n",
        "print(\"After\", a)"
      ],
      "execution_count": 59,
      "outputs": [
        {
          "output_type": "stream",
          "text": [
            "Before {'x': 1, 'z': 3}\n",
            "After {'z': 10, 'w': 40}\n"
          ],
          "name": "stdout"
        }
      ]
    },
    {
      "cell_type": "markdown",
      "metadata": {
        "id": "C2rBfMRPqcfJ"
      },
      "source": [
        "### ***collections.Counter***\n",
        "\n",
        "A mapping that holds an integer count for each key. Updating an existing key adds to its count. This can be used to count instances of hashable objects (the keys) or as a multiset—a set that can hold several occurrences of each element. Counter implements the + and - operators to combine tallies, and other useful methods such as most_common([n]), which returns an ordered list of tuples with the n most com‐ mon items and their counts"
      ]
    },
    {
      "cell_type": "code",
      "metadata": {
        "id": "B9ts1JdYfMvD"
      },
      "source": [
        "from collections import Counter"
      ],
      "execution_count": 10,
      "outputs": []
    },
    {
      "cell_type": "code",
      "metadata": {
        "colab": {
          "base_uri": "https://localhost:8080/"
        },
        "id": "S6znvZPUhaz7",
        "outputId": "50680576-7e86-428e-f3a1-0972fb1759ba"
      },
      "source": [
        "ct = Counter('abracadabra')\n",
        "print(ct)\n",
        "ct.update('aaaaazzz')\n",
        "print(ct)"
      ],
      "execution_count": 11,
      "outputs": [
        {
          "output_type": "stream",
          "text": [
            "Counter({'a': 5, 'b': 2, 'r': 2, 'c': 1, 'd': 1})\n",
            "Counter({'a': 10, 'z': 3, 'b': 2, 'r': 2, 'c': 1, 'd': 1})\n"
          ],
          "name": "stdout"
        }
      ]
    },
    {
      "cell_type": "code",
      "metadata": {
        "colab": {
          "base_uri": "https://localhost:8080/"
        },
        "id": "Rm1ycFEuna-U",
        "outputId": "39ea17e6-c3fd-451c-9677-063290113ce7"
      },
      "source": [
        "print(sorted(ct.elements()))"
      ],
      "execution_count": 12,
      "outputs": [
        {
          "output_type": "stream",
          "text": [
            "['a', 'a', 'a', 'a', 'a', 'a', 'a', 'a', 'a', 'a', 'b', 'b', 'c', 'd', 'r', 'r', 'z', 'z', 'z']\n"
          ],
          "name": "stdout"
        }
      ]
    },
    {
      "cell_type": "code",
      "metadata": {
        "colab": {
          "base_uri": "https://localhost:8080/"
        },
        "id": "OJkbX2-FhkcT",
        "outputId": "6003887e-3ce2-4deb-983d-4d1030b3505c"
      },
      "source": [
        "# Total of all counts\n",
        "print(sum(ct.values()))\n",
        "\n",
        "# list unique elements\n",
        "print(list(ct))\n",
        "\n",
        "# convert to a set\n",
        "print(set(ct))\n",
        "\n",
        "# convert to a regular dictionary\n",
        "print(dict(ct))\n",
        "\n",
        "# convert to a list of (elem, cnt) pairs\n",
        "print(c.items())\n",
        "\n",
        "# convert from a list of (elem, cnt) pairs\n",
        "list_of_pairs = c.items()\n",
        "print(Counter(dict(list_of_pairs)))\n",
        "\n",
        "# n least common elements\n",
        "print(ct.most_common())\n",
        "n = 2\n",
        "print(ct.most_common()[:-n-1:-1])"
      ],
      "execution_count": 13,
      "outputs": [
        {
          "output_type": "stream",
          "text": [
            "19\n",
            "['a', 'b', 'r', 'c', 'd', 'z']\n",
            "{'d', 'c', 'a', 'b', 'z', 'r'}\n",
            "{'a': 10, 'b': 2, 'r': 2, 'c': 1, 'd': 1, 'z': 3}\n",
            "dict_items([('one', 1), ('two', 2), ('three', 3)])\n",
            "Counter({'three': 3, 'two': 2, 'one': 1})\n",
            "[('a', 10), ('z', 3), ('b', 2), ('r', 2), ('c', 1), ('d', 1)]\n",
            "[('d', 1), ('c', 1)]\n"
          ],
          "name": "stdout"
        }
      ]
    },
    {
      "cell_type": "code",
      "metadata": {
        "colab": {
          "base_uri": "https://localhost:8080/"
        },
        "id": "8ORtCIlnmuoS",
        "outputId": "af027d5a-6981-40b0-c516-0e80a37a0c65"
      },
      "source": [
        "c = Counter(a=3, b=1)\n",
        "d = Counter(a=1, b=2)\n",
        "print(c + d) # add two counters together:  c[x] + d[x]\n",
        "print(c - d) # subtract (keeping only positive counts)\n",
        "print(c & d) # intersection:  min(c[x], d[x]) \n",
        "print(c | d) # union:  max(c[x], d[x])"
      ],
      "execution_count": 14,
      "outputs": [
        {
          "output_type": "stream",
          "text": [
            "Counter({'a': 4, 'b': 3})\n",
            "Counter({'a': 2})\n",
            "Counter({'a': 1, 'b': 1})\n",
            "Counter({'a': 3, 'b': 2})\n"
          ],
          "name": "stdout"
        }
      ]
    },
    {
      "cell_type": "code",
      "metadata": {
        "colab": {
          "base_uri": "https://localhost:8080/"
        },
        "id": "xgnUaye1nRBx",
        "outputId": "7cc48dc0-696f-4beb-cf81-b54162154e4d"
      },
      "source": [
        "c = Counter(a=2, b=-4, c=0)\n",
        "print(+c) # remove zero and negative counts\n",
        "print(-c) # remove zero and positive counts"
      ],
      "execution_count": 15,
      "outputs": [
        {
          "output_type": "stream",
          "text": [
            "Counter({'a': 2})\n",
            "Counter({'b': 4})\n"
          ],
          "name": "stdout"
        }
      ]
    },
    {
      "cell_type": "markdown",
      "metadata": {
        "id": "Ros8TT9VrA37"
      },
      "source": [
        "### ***collections.UserDict***:\n",
        "\n",
        "A pure Python implementation of a mapping that works like a standard dict."
      ]
    },
    {
      "cell_type": "markdown",
      "metadata": {
        "id": "eImb0TjisvEo"
      },
      "source": [
        "##  Calculating with Dictionaries\n",
        "\n",
        "Perform various calculations (e.g., minimum value, maximum value, sorting, etc.) on a dictionary of data. In order to perform useful calculations on the dictionary contents, it is often useful to invert the keys and values of the dictionary using zip().\n",
        "\n",
        "For example, here is how to find the minimum and maximum price and stock name:"
      ]
    },
    {
      "cell_type": "code",
      "metadata": {
        "colab": {
          "base_uri": "https://localhost:8080/"
        },
        "id": "P6kz84Ifsudg",
        "outputId": "91465eb2-545a-497d-c0b8-c34a2fb24636"
      },
      "source": [
        "prices = {'ACME': 45.23,\n",
        "          'AAPL': 612.78,\n",
        "          'IBM': 205.55,\n",
        "          'HPQ': 37.20,\n",
        "          'FB': 10.75}\n",
        "\n",
        "print(min(zip(prices.values(), prices.keys())))\n",
        "print(max(zip(prices.values(), prices.keys())))\n",
        "\n",
        "prices_sorted = sorted(zip(prices.values(), prices.keys()))\n",
        "print(prices_sorted)"
      ],
      "execution_count": 44,
      "outputs": [
        {
          "output_type": "stream",
          "text": [
            "(10.75, 'FB')\n",
            "(612.78, 'AAPL')\n",
            "[(10.75, 'FB'), (37.2, 'HPQ'), (45.23, 'ACME'), (205.55, 'IBM'), (612.78, 'AAPL')]\n"
          ],
          "name": "stdout"
        }
      ]
    },
    {
      "cell_type": "markdown",
      "metadata": {
        "id": "yAu7aa1Rve0b"
      },
      "source": [
        "## Finding Commonalities in Two Dictionaries\n",
        "\n",
        "You have two dictionaries and want to find out what they might have in common (same keys, same values, etc.)."
      ]
    },
    {
      "cell_type": "code",
      "metadata": {
        "id": "8CbqZdo3vEtc"
      },
      "source": [
        "a = {'x' : 1, 'y' : 2, 'z' : 3}\n",
        "b = {'w' : 10, 'x' : 11, 'y' : 2}"
      ],
      "execution_count": 34,
      "outputs": []
    },
    {
      "cell_type": "markdown",
      "metadata": {
        "id": "GpPnjI5cv1BO"
      },
      "source": [
        "To find out what the two dictionaries have in common, simply perform common set operations using the keys() or items() methods."
      ]
    },
    {
      "cell_type": "code",
      "metadata": {
        "colab": {
          "base_uri": "https://localhost:8080/"
        },
        "id": "kq2vFnEXv1Xe",
        "outputId": "a34c2384-c00b-4369-a04e-3ae82caae905"
      },
      "source": [
        "# Find keys in common\n",
        "print(a.keys() & b.keys())\n",
        "\n",
        "# Find keys in a that are not in b \n",
        "print(a.keys() - b.keys())\n",
        "\n",
        "# Find (key,value) pairs in common\n",
        "print(a.items() & b.items())"
      ],
      "execution_count": 37,
      "outputs": [
        {
          "output_type": "stream",
          "text": [
            "{'x', 'y'}\n",
            "{'z'}\n",
            "{('y', 2)}\n"
          ],
          "name": "stdout"
        }
      ]
    },
    {
      "cell_type": "markdown",
      "metadata": {
        "id": "7beK8uHVwRaG"
      },
      "source": [
        "These kinds of operations can also be used to alter or filter dictionary contents. For example, suppose you want to make a new dictionary with selected keys removed. Here is some sample code using a dictionary comprehension:"
      ]
    },
    {
      "cell_type": "code",
      "metadata": {
        "colab": {
          "base_uri": "https://localhost:8080/"
        },
        "id": "NYswJbktv_uU",
        "outputId": "05d431cf-aeac-40d1-96db-21c28f1b0edc"
      },
      "source": [
        "#  Make a new dictionary with certain keys removed\n",
        "{key: a[key] for key in a.keys() - {\"z\", \"w\"}}"
      ],
      "execution_count": 38,
      "outputs": [
        {
          "output_type": "execute_result",
          "data": {
            "text/plain": [
              "{'x': 1, 'y': 2}"
            ]
          },
          "metadata": {
            "tags": []
          },
          "execution_count": 38
        }
      ]
    },
    {
      "cell_type": "markdown",
      "metadata": {
        "id": "UNMh1wYQyNEI"
      },
      "source": [
        "## Sorting a List of Dictionaries by a Common Key"
      ]
    },
    {
      "cell_type": "code",
      "metadata": {
        "id": "Mevl02c9yz3t"
      },
      "source": [
        "from operator import itemgetter, attrgetter"
      ],
      "execution_count": 40,
      "outputs": []
    },
    {
      "cell_type": "code",
      "metadata": {
        "colab": {
          "base_uri": "https://localhost:8080/"
        },
        "id": "UG7VjDIHy13V",
        "outputId": "a80c6e54-c57b-4d48-fac0-fe3d53db6572"
      },
      "source": [
        "rows = [{'fname': 'Brian', 'lname': 'Jones', 'uid': 1003},\n",
        "        {'fname': 'David', 'lname': 'Beazley', 'uid': 1002},\n",
        "        {'fname': 'John', 'lname': 'Cleese', 'uid': 1001},\n",
        "        {'fname': 'Big', 'lname': 'Jones', 'uid': 1004}]\n",
        "\n",
        "rows_by_fname = sorted(rows, key=itemgetter(\"fname\"))\n",
        "print(rows_by_fname)\n",
        "rows_by_uid = sorted(rows, key=itemgetter('uid'))\n",
        "print(rows_by_uid)"
      ],
      "execution_count": 43,
      "outputs": [
        {
          "output_type": "stream",
          "text": [
            "[{'fname': 'Big', 'lname': 'Jones', 'uid': 1004}, {'fname': 'Brian', 'lname': 'Jones', 'uid': 1003}, {'fname': 'David', 'lname': 'Beazley', 'uid': 1002}, {'fname': 'John', 'lname': 'Cleese', 'uid': 1001}]\n",
            "[{'fname': 'John', 'lname': 'Cleese', 'uid': 1001}, {'fname': 'David', 'lname': 'Beazley', 'uid': 1002}, {'fname': 'Brian', 'lname': 'Jones', 'uid': 1003}, {'fname': 'Big', 'lname': 'Jones', 'uid': 1004}]\n"
          ],
          "name": "stdout"
        }
      ]
    },
    {
      "cell_type": "code",
      "metadata": {
        "colab": {
          "base_uri": "https://localhost:8080/"
        },
        "id": "BZM0TbRW0lzH",
        "outputId": "46188d80-05f6-4e8e-cbec-68b3dfe52c08"
      },
      "source": [
        "print(min(rows, key=itemgetter(\"uid\")))\n",
        "print(max(rows, key=itemgetter(\"uid\")))"
      ],
      "execution_count": 46,
      "outputs": [
        {
          "output_type": "stream",
          "text": [
            "{'fname': 'John', 'lname': 'Cleese', 'uid': 1001}\n",
            "{'fname': 'Big', 'lname': 'Jones', 'uid': 1004}\n"
          ],
          "name": "stdout"
        }
      ]
    },
    {
      "cell_type": "markdown",
      "metadata": {
        "id": "7HHUO7wG3Edy"
      },
      "source": [
        "## Extracting a Subset of a Dictionary"
      ]
    },
    {
      "cell_type": "code",
      "metadata": {
        "id": "1D1EC_C03G3o"
      },
      "source": [
        "prices = {'ACME': 45.23,\n",
        "          'AAPL': 612.78,\n",
        "          'IBM': 205.55,\n",
        "          'HPQ': 37.20,\n",
        "          'FB': 10.75}"
      ],
      "execution_count": 47,
      "outputs": []
    },
    {
      "cell_type": "code",
      "metadata": {
        "colab": {
          "base_uri": "https://localhost:8080/"
        },
        "id": "jCnJiGo33PMN",
        "outputId": "3713f954-3c4a-4ee2-c7b4-c0febcddd2ed"
      },
      "source": [
        "# Make a dictionary of all prices over 200\n",
        "{key: value for key, value in prices.items() if value > 200}"
      ],
      "execution_count": 48,
      "outputs": [
        {
          "output_type": "execute_result",
          "data": {
            "text/plain": [
              "{'AAPL': 612.78, 'IBM': 205.55}"
            ]
          },
          "metadata": {
            "tags": []
          },
          "execution_count": 48
        }
      ]
    },
    {
      "cell_type": "code",
      "metadata": {
        "colab": {
          "base_uri": "https://localhost:8080/"
        },
        "id": "in4ug_9j3W_7",
        "outputId": "a8948a69-fe35-4d6f-db0f-efd009d51663"
      },
      "source": [
        "# Make a dictionary of tech stocks\n",
        "tech_names = { 'AAPL', 'IBM', 'HPQ', 'MSFT' }\n",
        "{key: prices[key] for key in prices.keys() & tech_names}"
      ],
      "execution_count": 49,
      "outputs": [
        {
          "output_type": "execute_result",
          "data": {
            "text/plain": [
              "{'AAPL': 612.78, 'HPQ': 37.2, 'IBM': 205.55}"
            ]
          },
          "metadata": {
            "tags": []
          },
          "execution_count": 49
        }
      ]
    },
    {
      "cell_type": "markdown",
      "metadata": {
        "id": "PQPBeUi-pW28"
      },
      "source": [
        "## Set Theory\n",
        "\n",
        "A set is a collection of unique objects. A basic use case is removing duplication.\n",
        "\n",
        "Set elements must be hashable. The set type is not hashable, but frozenset is, so you can have frozenset elements inside a set."
      ]
    },
    {
      "cell_type": "code",
      "metadata": {
        "colab": {
          "base_uri": "https://localhost:8080/"
        },
        "id": "Gk7bg6DHplO4",
        "outputId": "d3aa9ff8-3b37-435c-f534-fdeb6be9df9b"
      },
      "source": [
        "l = ['spam', 'spam', 'eggs', 'spam']\n",
        "print(set(l))\n",
        "print(list(set(l)))"
      ],
      "execution_count": 16,
      "outputs": [
        {
          "output_type": "stream",
          "text": [
            "{'eggs', 'spam'}\n",
            "['eggs', 'spam']\n"
          ],
          "name": "stdout"
        }
      ]
    },
    {
      "cell_type": "markdown",
      "metadata": {
        "id": "HJubhe-np_8M"
      },
      "source": [
        "In addition to guaranteeing uniqueness, the set types implement the essential set oper‐ ations as infix operators, so, given two sets a and b, a | b returns their union, a & b computes the intersection, and a - b the difference. Smart use of set operations can reduce both the line count and the runtime of Python programs, at the same time making code easier to read and reason about—by removing loops and lots of conditional logic.\n",
        "\n",
        "**Count occurrences of needles in a haystack, both of type set**\n",
        "count = len(needles & haystack)"
      ]
    },
    {
      "cell_type": "markdown",
      "metadata": {
        "id": "roQBDgRmq7RB"
      },
      "source": [
        "### set Literals\n",
        "\n",
        "The syntax of set literals—{1}, {1, 2}, etc.—looks exactly like the math notation, with one important exception: there’s no literal notation for the empty set, so we must remember to write `set()`."
      ]
    },
    {
      "cell_type": "code",
      "metadata": {
        "colab": {
          "base_uri": "https://localhost:8080/"
        },
        "id": "5uUmNGDvqAS6",
        "outputId": "e1e20a8d-13d3-43da-cb0c-bdf953e90359"
      },
      "source": [
        "s = {1}\n",
        "print(type(s))\n",
        "print(s)\n",
        "print(s.pop())\n",
        "print(s)\n",
        "ss = set()\n",
        "print(type(ss))\n",
        "ss = {}\n",
        "print(type(ss))"
      ],
      "execution_count": 17,
      "outputs": [
        {
          "output_type": "stream",
          "text": [
            "<class 'set'>\n",
            "{1}\n",
            "1\n",
            "set()\n",
            "<class 'set'>\n",
            "<class 'dict'>\n"
          ],
          "name": "stdout"
        }
      ]
    },
    {
      "cell_type": "markdown",
      "metadata": {
        "id": "CVzX15gPrq6z"
      },
      "source": [
        "Literal set syntax like `{1, 2, 3}` is both faster and more readable than calling the constructor (e.g., `set([1, 2, 3])`). The latter form is slower because, to evaluate it, Python has to look up the set name to fetch the constructor, then build a list, and finally pass it to the constructor."
      ]
    },
    {
      "cell_type": "markdown",
      "metadata": {
        "id": "WHXfSXCxr70g"
      },
      "source": [
        "### frozenset Literals\n",
        "\n",
        "There is no special syntax to represent frozenset literals—they must be created by calling the constructor."
      ]
    },
    {
      "cell_type": "code",
      "metadata": {
        "colab": {
          "base_uri": "https://localhost:8080/"
        },
        "id": "SuRs4pwZrWtb",
        "outputId": "0d319975-37b9-4360-f5b7-bd19e9ad6d5b"
      },
      "source": [
        "frozenset(range(10))"
      ],
      "execution_count": 18,
      "outputs": [
        {
          "output_type": "execute_result",
          "data": {
            "text/plain": [
              "frozenset({0, 1, 2, 3, 4, 5, 6, 7, 8, 9})"
            ]
          },
          "metadata": {
            "tags": []
          },
          "execution_count": 18
        }
      ]
    },
    {
      "cell_type": "markdown",
      "metadata": {
        "id": "m-SgoVvqsGGL"
      },
      "source": [
        "## Hash Tables in Dictionaries\n",
        "\n",
        "A hash table is a sparse array (i.e., an array that always has empty cells). The cells in a hash table are often called “buckets.” In a dict hash table, there is a bucket for each item, and it contains two fields: a reference to the key and a reference to the value of the item. Because all buckets have the same size, access to an individual bucket is done by offset.\n",
        "\n",
        "Python tries to keep at least 1/3 of the buckets empty; if the hash table becomes too crowded, it is copied to a new location with room for more buckets.\n",
        "\n",
        "To put an item in a hash table, the first step is to calculate the hash value of the item key, which is done with the hash() built-in function."
      ]
    },
    {
      "cell_type": "markdown",
      "metadata": {
        "id": "UwBITickhYIc"
      },
      "source": [
        "### Hashes and equality\n",
        "\n",
        "If two objects compare equal, their hash values must also be equal, otherwise the hash table algorithm does not work. For example, because 1 == 1.0 is true, hash(1) == hash(1.0) must also be true, even though the internal representation of an int and a float are very different.\n",
        "\n",
        "Also, to be effective as hash table indexes, hash values should scatter around the index space as much as possible. This means that, ideally, objects that are similar but not equal should have hash values that differ widely."
      ]
    },
    {
      "cell_type": "markdown",
      "metadata": {
        "id": "lv5Q7frDiJgI"
      },
      "source": [
        "### The hash table algorithm\n",
        "\n",
        "<img src=\"https://github.com/diwakar-vsingh/Fluent-Python/blob/version-0.0/03-dict-set/images/Table%202.png?raw=true\" width=\"700px\"/>\n",
        "\n",
        "\n",
        "The process to insert or update an item is the same, except that when an empty bucket is located, the new item is put there, and when a bucket with a matching key is found, the value in that bucket is overwritten with the new value.\n",
        "\n",
        "Additionally, when inserting items, Python may determine that the hash table is too crowded and rebuild it to a new location with more room. As the hash table grows, so does the number of hash bits used as bucket offsets, and this keeps the rate of collisions low.\n"
      ]
    },
    {
      "cell_type": "markdown",
      "metadata": {
        "id": "NyHj3cQYjJWo"
      },
      "source": [
        "## Practical Consequences of How Dict Works\n",
        "\n",
        "1. **dicts have significant memory overhead:**\n",
        "Because a dict uses a hash table internally, and hash tables must be sparse to work, they are not space efficient. For example, if you are handling a large quantity of records, it makes sense to store them in a list of tuples or named tuples instead of using a list of dictionaries in JSON style, with one dict per record.\n",
        "\n",
        "2. **Key search is very fast:**\n",
        "The dict implementation is an example of trading space for time: dictionaries have significant memory overhead, but they provide fast access regardless of the size of the dictionary—as long as it fits in memory. \n",
        "\n",
        "3. **Key ordering depends on insertion order**\n",
        "When a hash collision happens, the second key ends up in a position that it would not normally occupy if it had been inserted first. So, a dict built as `dict([(key1, value1), (key2, value2)])` compares equal to `dict([(key2, value2), (key1, value1)])`, but their key ordering may not be the same if the hashes of key1 and key2 collide."
      ]
    },
    {
      "cell_type": "code",
      "metadata": {
        "id": "nFQU-K0psLZe",
        "colab": {
          "base_uri": "https://localhost:8080/"
        },
        "outputId": "1e010a7d-c74b-4a17-b88f-5ae29e6fb77f"
      },
      "source": [
        "DIAL_CODES = [\n",
        "        (86, 'China'),\n",
        "        (91, 'India'),\n",
        "        (1, 'United States'),\n",
        "        (62, 'Indonesia'),\n",
        "        (55, 'Brazil'),\n",
        "        (92, 'Pakistan'),\n",
        "        (880, 'Bangladesh'),\n",
        "        (234, 'Nigeria'),\n",
        "        (7, 'Russia'),\n",
        "        (81, 'Japan')]\n",
        "\n",
        "d1 = dict(DIAL_CODES)  # <1>\n",
        "print('d1:', d1.keys())\n",
        "d2 = dict(sorted(DIAL_CODES))  # <2>\n",
        "print('d2:', d2.keys())\n",
        "d3 = dict(sorted(DIAL_CODES, key=lambda x:x[1]))  # <3>\n",
        "print('d3:', d3.keys())\n",
        "assert d1 == d2 and d2 == d3  # <4>"
      ],
      "execution_count": 19,
      "outputs": [
        {
          "output_type": "stream",
          "text": [
            "d1: dict_keys([86, 91, 1, 62, 55, 92, 880, 234, 7, 81])\n",
            "d2: dict_keys([1, 7, 55, 62, 81, 86, 91, 92, 234, 880])\n",
            "d3: dict_keys([880, 55, 86, 91, 62, 81, 234, 92, 7, 1])\n"
          ],
          "name": "stdout"
        }
      ]
    },
    {
      "cell_type": "markdown",
      "metadata": {
        "id": "edgzkugHkgcT"
      },
      "source": [
        "4. **Adding items to a dict may change the order of existing keys**:\n",
        "Whenever you add a new item to a dict, the Python interpreter may decide that the hash table of that dictionary needs to grow. This entails building a new, bigger hash table, and adding all current items to the new table. During this process, new (but different) hash collisions may happen, with the result that the keys are likely to be or‐ dered differently in the new hash table.\n",
        "\n",
        " If you are iterating over the dictionary keys and changing them at the same time, your loop may not scan all the items as expected —not even the items that were already in the dictionary before you added to it.\n",
        "\n",
        "This is why modifying the contents of a dict while iterating through it is a bad idea. If you need to scan and add items to a dictionary, do it in two steps: read the dict from start to finish and collect the needed additions in a second dict. Then update the first one with it."
      ]
    },
    {
      "cell_type": "markdown",
      "metadata": {
        "id": "aHWwMmZSlI6K"
      },
      "source": [
        "## How Sets Work—Practical Consequences\n",
        "\n",
        "The set and frozenset types are also implemented with a hash table, except that each bucket holds only a reference to the element (as if it were a key in a dict, but without a value to go with it).\n",
        "\n",
        "1. Set elements must be hashable objects.\n",
        "2. Sets have a significant memory overhead.\n",
        "3. Membership testing is very efficient.\n",
        "4. Element ordering depends on insertion order.\n",
        "5. Adding elements to a set may change the order of other elements."
      ]
    }
  ]
}