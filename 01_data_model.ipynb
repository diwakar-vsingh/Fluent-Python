{
  "nbformat": 4,
  "nbformat_minor": 0,
  "metadata": {
    "colab": {
      "name": "01-data-model.ipynb",
      "provenance": [],
      "collapsed_sections": [],
      "authorship_tag": "ABX9TyPTtxsj4J7L7Iy7t8mjat4N",
      "include_colab_link": true
    },
    "kernelspec": {
      "name": "python3",
      "display_name": "Python 3"
    }
  },
  "cells": [
    {
      "cell_type": "markdown",
      "metadata": {
        "id": "view-in-github",
        "colab_type": "text"
      },
      "source": [
        "<a href=\"https://colab.research.google.com/github/diwakar-vsingh/Fluent-Python/blob/version-0.0/01_data_model.ipynb\" target=\"_parent\"><img src=\"https://colab.research.google.com/assets/colab-badge.svg\" alt=\"Open In Colab\"/></a>"
      ]
    },
    {
      "cell_type": "markdown",
      "metadata": {
        "id": "RsX_H7Fg07E9"
      },
      "source": [
        "# Python Data Model"
      ]
    },
    {
      "cell_type": "markdown",
      "metadata": {
        "id": "-uodvYNsiLWe"
      },
      "source": [
        "## Special Methods\n",
        "Using special methods, your classes can act like sets, like dictionaries, like functions, like iterators, or even like numbers. Special methods are meant to be called by the Python interpreter, and not by you.\n",
        "\n",
        "You don’t write `my_object.__len__()`. You write `len(my_object)` and, if my_object is an instance of a user-defined class, then Python calls the `__len__` instance method you implemented."
      ]
    },
    {
      "cell_type": "markdown",
      "metadata": {
        "id": "X8WPNf7ckR7L"
      },
      "source": [
        "### A Pythonic Deck Card"
      ]
    },
    {
      "cell_type": "code",
      "metadata": {
        "id": "hiNMPNIYeQiI"
      },
      "source": [
        "import collections\n",
        "import random"
      ],
      "execution_count": 1,
      "outputs": []
    },
    {
      "cell_type": "markdown",
      "metadata": {
        "id": "lmHRkQjBmBSi"
      },
      "source": [
        "### collections.namedtuple\n",
        "\n",
        "namedtuple can be used to build classes of objects that are just bundles of attributes with no custom methods, like a database record. In the example, we use it to provide a nice representation for the cards in the deck.\n"
      ]
    },
    {
      "cell_type": "code",
      "metadata": {
        "colab": {
          "base_uri": "https://localhost:8080/",
          "height": 35
        },
        "id": "_hlY0GMokZYU",
        "outputId": "ffabe94f-c33b-4490-e670-9f8a12e35c14"
      },
      "source": [
        "Card = collections.namedtuple('Card', ['rank', 'suit'])\n",
        "Card.__doc__"
      ],
      "execution_count": 2,
      "outputs": [
        {
          "output_type": "execute_result",
          "data": {
            "application/vnd.google.colaboratory.intrinsic+json": {
              "type": "string"
            },
            "text/plain": [
              "'Card(rank, suit)'"
            ]
          },
          "metadata": {
            "tags": []
          },
          "execution_count": 2
        }
      ]
    },
    {
      "cell_type": "markdown",
      "metadata": {
        "id": "8FOk4AlZ8UMU"
      },
      "source": [
        "By implementing the special methods `__len__` and `__getitem__`, our FrenchDeck behaves like a standard Python sequence, allowing it to benefit from core language features (e.g., iteration and slicing)"
      ]
    },
    {
      "cell_type": "code",
      "metadata": {
        "id": "KSb0LaTlkdft"
      },
      "source": [
        "# A class to represent a deck of playing cards.\n",
        "class FrenchDeck:\n",
        "  ranks = [str(n) for n in range(2, 11)] + list('JQKA') \n",
        "  suits = 'spades diamonds clubs hearts'.split()\n",
        "  \n",
        "  def __init__(self):\n",
        "    self._cards = [Card(rank, suit) for suit in self.suits for rank in self.ranks]\n",
        "  \n",
        "  def __len__(self):\n",
        "    return len(self._cards)\n",
        "  \n",
        "  def __getitem__(self, position): return self._cards[position]"
      ],
      "execution_count": 3,
      "outputs": []
    },
    {
      "cell_type": "code",
      "metadata": {
        "colab": {
          "base_uri": "https://localhost:8080/"
        },
        "id": "2m0ALiT3mpcK",
        "outputId": "0ee50bcb-34aa-4098-af03-8bd317156427"
      },
      "source": [
        "deck = FrenchDeck()\n",
        "print(deck._cards)\n",
        "print(len(deck))"
      ],
      "execution_count": 4,
      "outputs": [
        {
          "output_type": "stream",
          "text": [
            "[Card(rank='2', suit='spades'), Card(rank='3', suit='spades'), Card(rank='4', suit='spades'), Card(rank='5', suit='spades'), Card(rank='6', suit='spades'), Card(rank='7', suit='spades'), Card(rank='8', suit='spades'), Card(rank='9', suit='spades'), Card(rank='10', suit='spades'), Card(rank='J', suit='spades'), Card(rank='Q', suit='spades'), Card(rank='K', suit='spades'), Card(rank='A', suit='spades'), Card(rank='2', suit='diamonds'), Card(rank='3', suit='diamonds'), Card(rank='4', suit='diamonds'), Card(rank='5', suit='diamonds'), Card(rank='6', suit='diamonds'), Card(rank='7', suit='diamonds'), Card(rank='8', suit='diamonds'), Card(rank='9', suit='diamonds'), Card(rank='10', suit='diamonds'), Card(rank='J', suit='diamonds'), Card(rank='Q', suit='diamonds'), Card(rank='K', suit='diamonds'), Card(rank='A', suit='diamonds'), Card(rank='2', suit='clubs'), Card(rank='3', suit='clubs'), Card(rank='4', suit='clubs'), Card(rank='5', suit='clubs'), Card(rank='6', suit='clubs'), Card(rank='7', suit='clubs'), Card(rank='8', suit='clubs'), Card(rank='9', suit='clubs'), Card(rank='10', suit='clubs'), Card(rank='J', suit='clubs'), Card(rank='Q', suit='clubs'), Card(rank='K', suit='clubs'), Card(rank='A', suit='clubs'), Card(rank='2', suit='hearts'), Card(rank='3', suit='hearts'), Card(rank='4', suit='hearts'), Card(rank='5', suit='hearts'), Card(rank='6', suit='hearts'), Card(rank='7', suit='hearts'), Card(rank='8', suit='hearts'), Card(rank='9', suit='hearts'), Card(rank='10', suit='hearts'), Card(rank='J', suit='hearts'), Card(rank='Q', suit='hearts'), Card(rank='K', suit='hearts'), Card(rank='A', suit='hearts')]\n",
            "52\n"
          ],
          "name": "stdout"
        }
      ]
    },
    {
      "cell_type": "code",
      "metadata": {
        "colab": {
          "base_uri": "https://localhost:8080/"
        },
        "id": "UIdOWP_km6SM",
        "outputId": "c6f3a7c5-d0fa-4aef-e69d-35ec80aa1b4d"
      },
      "source": [
        "# Reading specific cards from the deck\n",
        "print(deck[0])\n",
        "print(deck[-1])"
      ],
      "execution_count": 5,
      "outputs": [
        {
          "output_type": "stream",
          "text": [
            "Card(rank='2', suit='spades')\n",
            "Card(rank='A', suit='hearts')\n"
          ],
          "name": "stdout"
        }
      ]
    },
    {
      "cell_type": "code",
      "metadata": {
        "colab": {
          "base_uri": "https://localhost:8080/"
        },
        "id": "wrJr0-BLnKu8",
        "outputId": "3a3df9a2-e05b-4bf5-ddd5-b2d1291abfc9"
      },
      "source": [
        "# Get a random item from a sequence\n",
        "print(random.choice(deck))\n",
        "print(random.choice(deck))"
      ],
      "execution_count": 6,
      "outputs": [
        {
          "output_type": "stream",
          "text": [
            "Card(rank='4', suit='spades')\n",
            "Card(rank='5', suit='diamonds')\n"
          ],
          "name": "stdout"
        }
      ]
    },
    {
      "cell_type": "markdown",
      "metadata": {
        "id": "VQ1L-PQC2K0h"
      },
      "source": [
        "Because our `__getitem__` delegates to the `[]` operator of self._cards, our deck auto‐ matically supports slicing"
      ]
    },
    {
      "cell_type": "code",
      "metadata": {
        "colab": {
          "base_uri": "https://localhost:8080/"
        },
        "id": "xrqW-0CRnajx",
        "outputId": "3e2d4061-a53b-434d-c7a5-d35e675c1815"
      },
      "source": [
        "deck[:3]"
      ],
      "execution_count": 7,
      "outputs": [
        {
          "output_type": "execute_result",
          "data": {
            "text/plain": [
              "[Card(rank='2', suit='spades'),\n",
              " Card(rank='3', suit='spades'),\n",
              " Card(rank='4', suit='spades')]"
            ]
          },
          "metadata": {
            "tags": []
          },
          "execution_count": 7
        }
      ]
    },
    {
      "cell_type": "markdown",
      "metadata": {
        "id": "ZKk6XpBT2P5y"
      },
      "source": [
        "Just by implementing the `__getitem__` special method, our deck is also iterable:\n"
      ]
    },
    {
      "cell_type": "code",
      "metadata": {
        "colab": {
          "base_uri": "https://localhost:8080/"
        },
        "id": "Yv7ugzpF2Qs_",
        "outputId": "c47506da-69ff-4a2a-cf63-7b7049384f34"
      },
      "source": [
        "for card in deck[:4]:\n",
        "  print(card)"
      ],
      "execution_count": 8,
      "outputs": [
        {
          "output_type": "stream",
          "text": [
            "Card(rank='2', suit='spades')\n",
            "Card(rank='3', suit='spades')\n",
            "Card(rank='4', suit='spades')\n",
            "Card(rank='5', suit='spades')\n"
          ],
          "name": "stdout"
        }
      ]
    },
    {
      "cell_type": "markdown",
      "metadata": {
        "id": "KOAe--s-3p1A"
      },
      "source": [
        "Iteration is often implicit. If a collection has no `__contains__` method, the in operator does a sequential scan. Case in point: in works with our FrenchDeck class because it is iterable."
      ]
    },
    {
      "cell_type": "code",
      "metadata": {
        "colab": {
          "base_uri": "https://localhost:8080/"
        },
        "id": "afCaAmJI2wCN",
        "outputId": "84e90b1c-0178-4753-ad1d-99a7d4f79218"
      },
      "source": [
        "print(Card(\"Q\", \"hearts\") in deck)\n",
        "print(Card(\"Q\", \"beast\") in deck)"
      ],
      "execution_count": 9,
      "outputs": [
        {
          "output_type": "stream",
          "text": [
            "True\n",
            "False\n"
          ],
          "name": "stdout"
        }
      ]
    },
    {
      "cell_type": "markdown",
      "metadata": {
        "id": "SuK9wVRI4WDD"
      },
      "source": [
        "### Sorting \n",
        "A common system of ranking cards is by rank (with aces being highest), then by suit in the order of spades (highest), then hearts, diamonds, and clubs (lowest). Here is a function that ranks cards by that rule, returning 0 for the 2 of clubs and 51 for the ace of spades:"
      ]
    },
    {
      "cell_type": "code",
      "metadata": {
        "colab": {
          "base_uri": "https://localhost:8080/"
        },
        "id": "lT1eimkc4WjH",
        "outputId": "f3d24b58-375a-4b4e-c3a1-1d4fa870a985"
      },
      "source": [
        "suit_values = dict(spades=3, hearts=2, diamonds=1, clubs=0)\n",
        "\n",
        "def spades_high(card):\n",
        "  rank_value = FrenchDeck.ranks.index(card.rank)\n",
        "  return rank_value * len(suit_values) + suit_values[card.suit]\n",
        "\n",
        "for card in sorted(deck, key=spades_high): \n",
        "  print(card)"
      ],
      "execution_count": 10,
      "outputs": [
        {
          "output_type": "stream",
          "text": [
            "Card(rank='2', suit='clubs')\n",
            "Card(rank='2', suit='diamonds')\n",
            "Card(rank='2', suit='hearts')\n",
            "Card(rank='2', suit='spades')\n",
            "Card(rank='3', suit='clubs')\n",
            "Card(rank='3', suit='diamonds')\n",
            "Card(rank='3', suit='hearts')\n",
            "Card(rank='3', suit='spades')\n",
            "Card(rank='4', suit='clubs')\n",
            "Card(rank='4', suit='diamonds')\n",
            "Card(rank='4', suit='hearts')\n",
            "Card(rank='4', suit='spades')\n",
            "Card(rank='5', suit='clubs')\n",
            "Card(rank='5', suit='diamonds')\n",
            "Card(rank='5', suit='hearts')\n",
            "Card(rank='5', suit='spades')\n",
            "Card(rank='6', suit='clubs')\n",
            "Card(rank='6', suit='diamonds')\n",
            "Card(rank='6', suit='hearts')\n",
            "Card(rank='6', suit='spades')\n",
            "Card(rank='7', suit='clubs')\n",
            "Card(rank='7', suit='diamonds')\n",
            "Card(rank='7', suit='hearts')\n",
            "Card(rank='7', suit='spades')\n",
            "Card(rank='8', suit='clubs')\n",
            "Card(rank='8', suit='diamonds')\n",
            "Card(rank='8', suit='hearts')\n",
            "Card(rank='8', suit='spades')\n",
            "Card(rank='9', suit='clubs')\n",
            "Card(rank='9', suit='diamonds')\n",
            "Card(rank='9', suit='hearts')\n",
            "Card(rank='9', suit='spades')\n",
            "Card(rank='10', suit='clubs')\n",
            "Card(rank='10', suit='diamonds')\n",
            "Card(rank='10', suit='hearts')\n",
            "Card(rank='10', suit='spades')\n",
            "Card(rank='J', suit='clubs')\n",
            "Card(rank='J', suit='diamonds')\n",
            "Card(rank='J', suit='hearts')\n",
            "Card(rank='J', suit='spades')\n",
            "Card(rank='Q', suit='clubs')\n",
            "Card(rank='Q', suit='diamonds')\n",
            "Card(rank='Q', suit='hearts')\n",
            "Card(rank='Q', suit='spades')\n",
            "Card(rank='K', suit='clubs')\n",
            "Card(rank='K', suit='diamonds')\n",
            "Card(rank='K', suit='hearts')\n",
            "Card(rank='K', suit='spades')\n",
            "Card(rank='A', suit='clubs')\n",
            "Card(rank='A', suit='diamonds')\n",
            "Card(rank='A', suit='hearts')\n",
            "Card(rank='A', suit='spades')\n"
          ],
          "name": "stdout"
        }
      ]
    },
    {
      "cell_type": "code",
      "metadata": {
        "colab": {
          "base_uri": "https://localhost:8080/"
        },
        "id": "WKSWtwW25Omk",
        "outputId": "e5e0612e-bf39-4aed-eb9e-2a01dc79d820"
      },
      "source": [
        "FrenchDeck.ranks"
      ],
      "execution_count": 11,
      "outputs": [
        {
          "output_type": "execute_result",
          "data": {
            "text/plain": [
              "['2', '3', '4', '5', '6', '7', '8', '9', '10', 'J', 'Q', 'K', 'A']"
            ]
          },
          "metadata": {
            "tags": []
          },
          "execution_count": 11
        }
      ]
    },
    {
      "cell_type": "code",
      "metadata": {
        "colab": {
          "base_uri": "https://localhost:8080/"
        },
        "id": "ErvUWJ9K45am",
        "outputId": "9a445103-9a5c-4013-c555-9a1348140ac7"
      },
      "source": [
        "FrenchDeck.ranks.index(Card(\"Q\", \"hearts\").rank)"
      ],
      "execution_count": 12,
      "outputs": [
        {
          "output_type": "execute_result",
          "data": {
            "text/plain": [
              "10"
            ]
          },
          "metadata": {
            "tags": []
          },
          "execution_count": 12
        }
      ]
    },
    {
      "cell_type": "markdown",
      "metadata": {
        "id": "RygFDqmklfj1"
      },
      "source": [
        "## Emulating Numeric Types\n",
        "\n",
        "Several special methods allow user objects to respond to operators such as +."
      ]
    },
    {
      "cell_type": "markdown",
      "metadata": {
        "id": "1EYN9fYPmKll"
      },
      "source": [
        "### 2-D Vector Class"
      ]
    },
    {
      "cell_type": "code",
      "metadata": {
        "id": "W4MHCJ5Ll7mM"
      },
      "source": [
        "from math import sqrt\n",
        "\n",
        "class Vector():\n",
        "\n",
        "  def __init__(self, x=0, y=0):\n",
        "    self.x = x\n",
        "    self.y = y\n",
        "  \n",
        "  def __repr__(self):\n",
        "    return \"Vector(%r, %r)\" % (self.x, self.y)\n",
        "  \n",
        "  def __abs__(self):\n",
        "    return sqrt(self.x**2 + self.y**2)\n",
        "\n",
        "  def __bool__(self):\n",
        "    return bool(abs(self))\n",
        "\n",
        "  def __add__(self, other):\n",
        "    return Vector(self.x + other.x, self.y + other.y)\n",
        "  \n",
        "  def __mul__(self, scalar):\n",
        "    return Vector(self.x * scalar, self.y * scalar)"
      ],
      "execution_count": 13,
      "outputs": []
    },
    {
      "cell_type": "markdown",
      "metadata": {
        "id": "pRPoxDvJn1Em"
      },
      "source": [
        "#### String representation\n",
        "\n",
        "The `__repr__` special method is called by the repr built-in to get the string representation of the object for inspection. If we did not implement `__repr__`, vector instances would be shown in the console like <Vector object at 0x10e100070>.\n",
        "\n",
        "Contrast `__repr__` with `__str__`, which is called by the str() constructor and implicitly used by the print function. `__str__` should return a string suitable for display to end users."
      ]
    },
    {
      "cell_type": "code",
      "metadata": {
        "colab": {
          "base_uri": "https://localhost:8080/"
        },
        "id": "TnV4oiXQoLak",
        "outputId": "1ed2168d-1382-4ac6-8f08-fc1e408af4cb"
      },
      "source": [
        "v1 = Vector(2, 4)\n",
        "print(v1)"
      ],
      "execution_count": 14,
      "outputs": [
        {
          "output_type": "stream",
          "text": [
            "Vector(2, 4)\n"
          ],
          "name": "stdout"
        }
      ]
    },
    {
      "cell_type": "markdown",
      "metadata": {
        "id": "L-Pd86yysq4H"
      },
      "source": [
        "#### Arithmetic Operators\n",
        "\n",
        "Above example implements two operators: + and *, to show basic usage of `__add__` and `__mul__`. Note that in both cases, the methods create and return a new instance of Vector, and do not modify either operand—`self` or `other` are merely read. This is the expected behavior of infix operators: to create new objects and not touch their operands."
      ]
    },
    {
      "cell_type": "code",
      "metadata": {
        "colab": {
          "base_uri": "https://localhost:8080/"
        },
        "id": "TVVtTcR7sqF7",
        "outputId": "be874445-6bed-4340-8eb2-2f609e56b416"
      },
      "source": [
        "v1 = Vector(2, 4)\n",
        "v2 = Vector(3, 2)\n",
        "v1 + v2"
      ],
      "execution_count": 15,
      "outputs": [
        {
          "output_type": "execute_result",
          "data": {
            "text/plain": [
              "Vector(5, 6)"
            ]
          },
          "metadata": {
            "tags": []
          },
          "execution_count": 15
        }
      ]
    },
    {
      "cell_type": "code",
      "metadata": {
        "colab": {
          "base_uri": "https://localhost:8080/"
        },
        "id": "dNWfcuH7tqQK",
        "outputId": "b19b0aaa-f088-4b4e-932d-72feb59d8600"
      },
      "source": [
        "v1 * 3"
      ],
      "execution_count": 16,
      "outputs": [
        {
          "output_type": "execute_result",
          "data": {
            "text/plain": [
              "Vector(6, 12)"
            ]
          },
          "metadata": {
            "tags": []
          },
          "execution_count": 16
        }
      ]
    },
    {
      "cell_type": "markdown",
      "metadata": {
        "id": "UV0ml_kduvi0"
      },
      "source": [
        "#### Boolean value of Custom Type\n",
        "\n",
        "By default, instances of user-defined classes are considered truthy, unless either `__bool__` or `__len__` is implemented. Basically, `bool(x)` calls `x.__bool__()` and uses the result. \n",
        "\n",
        "If `__bool__` is not implemented, Python tries to invoke `x.__len__()`, and if that returns zero, bool returns **False**. Otherwise bool returns **True**.\n"
      ]
    },
    {
      "cell_type": "code",
      "metadata": {
        "colab": {
          "base_uri": "https://localhost:8080/"
        },
        "id": "rReZnFMIt6JN",
        "outputId": "929d00ab-d618-4ca8-b031-1eb02a29ccc0"
      },
      "source": [
        "print(bool(v1))\n",
        "print(bool(Vector(0,0)))"
      ],
      "execution_count": 17,
      "outputs": [
        {
          "output_type": "stream",
          "text": [
            "True\n",
            "False\n"
          ],
          "name": "stdout"
        }
      ]
    },
    {
      "cell_type": "markdown",
      "metadata": {
        "id": "PQqy5UHsv39A"
      },
      "source": [
        "## Overview of Special Methods\n",
        "\n",
        "The “[Data Model](https://docs.python.org/3/reference/datamodel.html)” chapter of The Python Language Reference lists 83 special method names, 47 of which are used to implement arithmetic, bitwise, and comparison operators.\n",
        "\n",
        "<img src=\"https://github.com/diwakar-vsingh/Fluent-Python/blob/master/01-data-model/images/Table1.png?raw=true\" width=\"600px\"/>\n",
        "\n",
        "<img src=\"https://github.com/diwakar-vsingh/Fluent-Python/blob/master/01-data-model/images/Table2.png?raw=true\" width=\"600px\"/>"
      ]
    },
    {
      "cell_type": "markdown",
      "metadata": {
        "id": "dNS3QiD-ztY4"
      },
      "source": [
        "## Why len is not a method?\n",
        "\n",
        "In other words, `len` is not called as a method because it gets special treatment as part of the Python data model, just like `abs`. But thanks to the special method `__len__`, you can also make `len` work with your own custom objects. This is a fair compromise between the need for efficient built-in objects and the consistency of the language. "
      ]
    },
    {
      "cell_type": "markdown",
      "metadata": {
        "id": "uICUwRSd0OM4"
      },
      "source": [
        "## Summary\n",
        "\n",
        "1. By implementing special methods, your objects can behave like the built-in types.\n",
        "\n",
        "2. A basic requirement for a Python object is to provide usable string representations of itself, one used for debugging and logging, another for presentation to end users. That is why the special methods `__repr__` and `__str__` exist in the data model.\n",
        "\n",
        "3. Thanks to operator overloading, Python offers a rich selection of numeric types, from the built-ins to decimal.Decimal and fractions.Fraction, all supporting infix arithmetic operators"
      ]
    }
  ]
}